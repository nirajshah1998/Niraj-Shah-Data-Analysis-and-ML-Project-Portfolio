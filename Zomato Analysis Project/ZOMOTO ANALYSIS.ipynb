{
 "cells": [
  {
   "cell_type": "code",
   "execution_count": 1,
   "metadata": {},
   "outputs": [],
   "source": [
    "import pandas as pd\n",
    "import numpy as np\n",
    "import matplotlib.pyplot as plt\n",
    "import seaborn as sns\n",
    "import re\n"
   ]
  },
  {
   "cell_type": "markdown",
   "metadata": {},
   "source": [
    "## Reading a csv file by giving custom column names"
   ]
  },
  {
   "cell_type": "code",
   "execution_count": 2,
   "metadata": {},
   "outputs": [],
   "source": [
    "df = pd.read_csv(\"Zomoto.CSV\", names=[\"rest_id\", \"url\", \"address\", \"rest_name\", \"online_order\", \"Table Booking Availability\", \"Ratings out of 5\", \"Voters Count\", \"Phone No\",\n",
    "                         \"location\", \"Rest_type\", \"Dish Varieties\", \"Cuisines\", \"Average Cost for two\", \"Detail Reviews\", \"Menu item\", \"Listed type in ZOMOTO\", \"Listed City in ZOMOTO\"])\n"
   ]
  },
  {
   "cell_type": "markdown",
   "metadata": {},
   "source": []
  },
  {
   "cell_type": "code",
   "execution_count": 3,
   "metadata": {},
   "outputs": [],
   "source": [
    "df.drop(index=0, inplace=True)"
   ]
  },
  {
   "cell_type": "code",
   "execution_count": 4,
   "metadata": {},
   "outputs": [
    {
     "data": {
      "text/html": [
       "<div>\n",
       "<style scoped>\n",
       "    .dataframe tbody tr th:only-of-type {\n",
       "        vertical-align: middle;\n",
       "    }\n",
       "\n",
       "    .dataframe tbody tr th {\n",
       "        vertical-align: top;\n",
       "    }\n",
       "\n",
       "    .dataframe thead th {\n",
       "        text-align: right;\n",
       "    }\n",
       "</style>\n",
       "<table border=\"1\" class=\"dataframe\">\n",
       "  <thead>\n",
       "    <tr style=\"text-align: right;\">\n",
       "      <th></th>\n",
       "      <th>rest_id</th>\n",
       "      <th>url</th>\n",
       "      <th>address</th>\n",
       "      <th>rest_name</th>\n",
       "      <th>online_order</th>\n",
       "      <th>Table Booking Availability</th>\n",
       "      <th>Ratings out of 5</th>\n",
       "      <th>Voters Count</th>\n",
       "      <th>Phone No</th>\n",
       "      <th>location</th>\n",
       "      <th>Rest_type</th>\n",
       "      <th>Dish Varieties</th>\n",
       "      <th>Cuisines</th>\n",
       "      <th>Average Cost for two</th>\n",
       "      <th>Detail Reviews</th>\n",
       "      <th>Menu item</th>\n",
       "      <th>Listed type in ZOMOTO</th>\n",
       "      <th>Listed City in ZOMOTO</th>\n",
       "    </tr>\n",
       "  </thead>\n",
       "  <tbody>\n",
       "    <tr>\n",
       "      <th>1</th>\n",
       "      <td>14221.0</td>\n",
       "      <td>https://www.zomato.com/bangalore/shree-ranga-v...</td>\n",
       "      <td>366, Hosur Main Road, Attibele, Anekal Taluk, ...</td>\n",
       "      <td>Shree Ranga Vilas</td>\n",
       "      <td>No</td>\n",
       "      <td>No</td>\n",
       "      <td>3.2/5</td>\n",
       "      <td>7</td>\n",
       "      <td>080 29765044</td>\n",
       "      <td>Electronic City</td>\n",
       "      <td>Casual Dining</td>\n",
       "      <td>NaN</td>\n",
       "      <td>North Indian, South Indian, Chinese, Juices</td>\n",
       "      <td>500</td>\n",
       "      <td>[('Rated 3.0', 'RATED\\n  Typical South Indian ...</td>\n",
       "      <td>[]</td>\n",
       "      <td>Dine-out</td>\n",
       "      <td>Electronic City</td>\n",
       "    </tr>\n",
       "    <tr>\n",
       "      <th>2</th>\n",
       "      <td>43422.0</td>\n",
       "      <td>https://www.zomato.com/bangalore/sphyre-gatewa...</td>\n",
       "      <td>Gateway Hotel, 66, Residency Road, Bangalore</td>\n",
       "      <td>Sphyre - Gateway Hotel</td>\n",
       "      <td>No</td>\n",
       "      <td>No</td>\n",
       "      <td>3.6 /5</td>\n",
       "      <td>45</td>\n",
       "      <td>+91 9886643495\\n+91 9898780004</td>\n",
       "      <td>Residency Road</td>\n",
       "      <td>Lounge</td>\n",
       "      <td>NaN</td>\n",
       "      <td>Finger Food</td>\n",
       "      <td>1,700</td>\n",
       "      <td>[('Rated 1.0', 'RATED\\n  Expected a good night...</td>\n",
       "      <td>[]</td>\n",
       "      <td>Dine-out</td>\n",
       "      <td>MG Road</td>\n",
       "    </tr>\n",
       "    <tr>\n",
       "      <th>3</th>\n",
       "      <td>16032.0</td>\n",
       "      <td>https://www.zomato.com/bangalore/popular-baker...</td>\n",
       "      <td>19, BDA Complex, HSR, Bangalore</td>\n",
       "      <td>Popular Bakery</td>\n",
       "      <td>No</td>\n",
       "      <td>No</td>\n",
       "      <td>3.7/5</td>\n",
       "      <td>36</td>\n",
       "      <td>+91 8105834605\\r\\n080 25722488</td>\n",
       "      <td>HSR</td>\n",
       "      <td>Dessert Parlor, Bakery</td>\n",
       "      <td>NaN</td>\n",
       "      <td>Desserts, Bakery</td>\n",
       "      <td>600</td>\n",
       "      <td>[('Rated 5.0', \"RATED\\n  This outlet is in HSR...</td>\n",
       "      <td>[]</td>\n",
       "      <td>Delivery</td>\n",
       "      <td>HSR</td>\n",
       "    </tr>\n",
       "    <tr>\n",
       "      <th>4</th>\n",
       "      <td>51635.0</td>\n",
       "      <td>https://www.zomato.com/bangalore/thai-chinese-...</td>\n",
       "      <td>7, Anurhh Arcade, Hoodi Road, Kodigehalli Road...</td>\n",
       "      <td>Thai &amp; Chinese Fast Food</td>\n",
       "      <td>No</td>\n",
       "      <td>No</td>\n",
       "      <td>3.4 /5</td>\n",
       "      <td>7</td>\n",
       "      <td>+91 9206260085\\n+91 7619416923</td>\n",
       "      <td>KR Puram</td>\n",
       "      <td>Quick Bites</td>\n",
       "      <td>NaN</td>\n",
       "      <td>Chinese, Thai</td>\n",
       "      <td>400</td>\n",
       "      <td>[('Rated 5.0', 'RATED\\n  Its Looking delicious...</td>\n",
       "      <td>[]</td>\n",
       "      <td>Dine-out</td>\n",
       "      <td>Whitefield</td>\n",
       "    </tr>\n",
       "    <tr>\n",
       "      <th>5</th>\n",
       "      <td>23424.0</td>\n",
       "      <td>https://www.zomato.com/bangalore/grill-on-whee...</td>\n",
       "      <td>Kothanuru Main Road, Puttenahalli Road, Natara...</td>\n",
       "      <td>Grill On Wheels</td>\n",
       "      <td>No</td>\n",
       "      <td>No</td>\n",
       "      <td>NEW</td>\n",
       "      <td>0</td>\n",
       "      <td>+91 9901979901</td>\n",
       "      <td>JP Nagar</td>\n",
       "      <td>Quick Bites</td>\n",
       "      <td>NaN</td>\n",
       "      <td>North Indian, Chinese, BBQ, Arabian, Fast Food</td>\n",
       "      <td>400</td>\n",
       "      <td>[]</td>\n",
       "      <td>[]</td>\n",
       "      <td>Dine-out</td>\n",
       "      <td>JP Nagar</td>\n",
       "    </tr>\n",
       "  </tbody>\n",
       "</table>\n",
       "</div>"
      ],
      "text/plain": [
       "   rest_id                                                url  \\\n",
       "1  14221.0  https://www.zomato.com/bangalore/shree-ranga-v...   \n",
       "2  43422.0  https://www.zomato.com/bangalore/sphyre-gatewa...   \n",
       "3  16032.0  https://www.zomato.com/bangalore/popular-baker...   \n",
       "4  51635.0  https://www.zomato.com/bangalore/thai-chinese-...   \n",
       "5  23424.0  https://www.zomato.com/bangalore/grill-on-whee...   \n",
       "\n",
       "                                             address  \\\n",
       "1  366, Hosur Main Road, Attibele, Anekal Taluk, ...   \n",
       "2       Gateway Hotel, 66, Residency Road, Bangalore   \n",
       "3                    19, BDA Complex, HSR, Bangalore   \n",
       "4  7, Anurhh Arcade, Hoodi Road, Kodigehalli Road...   \n",
       "5  Kothanuru Main Road, Puttenahalli Road, Natara...   \n",
       "\n",
       "                  rest_name online_order Table Booking Availability  \\\n",
       "1         Shree Ranga Vilas           No                         No   \n",
       "2    Sphyre - Gateway Hotel           No                         No   \n",
       "3            Popular Bakery           No                         No   \n",
       "4  Thai & Chinese Fast Food           No                         No   \n",
       "5           Grill On Wheels           No                         No   \n",
       "\n",
       "  Ratings out of 5 Voters Count                        Phone No  \\\n",
       "1            3.2/5            7                    080 29765044   \n",
       "2           3.6 /5           45  +91 9886643495\\n+91 9898780004   \n",
       "3            3.7/5           36  +91 8105834605\\r\\n080 25722488   \n",
       "4           3.4 /5            7  +91 9206260085\\n+91 7619416923   \n",
       "5              NEW            0                  +91 9901979901   \n",
       "\n",
       "          location               Rest_type Dish Varieties  \\\n",
       "1  Electronic City           Casual Dining            NaN   \n",
       "2   Residency Road                  Lounge            NaN   \n",
       "3              HSR  Dessert Parlor, Bakery            NaN   \n",
       "4         KR Puram             Quick Bites            NaN   \n",
       "5         JP Nagar             Quick Bites            NaN   \n",
       "\n",
       "                                         Cuisines Average Cost for two  \\\n",
       "1     North Indian, South Indian, Chinese, Juices                  500   \n",
       "2                                     Finger Food                1,700   \n",
       "3                                Desserts, Bakery                  600   \n",
       "4                                   Chinese, Thai                  400   \n",
       "5  North Indian, Chinese, BBQ, Arabian, Fast Food                  400   \n",
       "\n",
       "                                      Detail Reviews Menu item  \\\n",
       "1  [('Rated 3.0', 'RATED\\n  Typical South Indian ...        []   \n",
       "2  [('Rated 1.0', 'RATED\\n  Expected a good night...        []   \n",
       "3  [('Rated 5.0', \"RATED\\n  This outlet is in HSR...        []   \n",
       "4  [('Rated 5.0', 'RATED\\n  Its Looking delicious...        []   \n",
       "5                                                 []        []   \n",
       "\n",
       "  Listed type in ZOMOTO Listed City in ZOMOTO  \n",
       "1              Dine-out       Electronic City  \n",
       "2              Dine-out               MG Road  \n",
       "3              Delivery                   HSR  \n",
       "4              Dine-out            Whitefield  \n",
       "5              Dine-out              JP Nagar  "
      ]
     },
     "execution_count": 4,
     "metadata": {},
     "output_type": "execute_result"
    }
   ],
   "source": [
    "df.head(5)"
   ]
  },
  {
   "cell_type": "markdown",
   "metadata": {},
   "source": []
  },
  {
   "cell_type": "markdown",
   "metadata": {},
   "source": [
    "## Checking for the garbage values in \"rest_name\":"
   ]
  },
  {
   "cell_type": "code",
   "execution_count": 5,
   "metadata": {},
   "outputs": [
    {
     "data": {
      "text/html": [
       "<div>\n",
       "<style scoped>\n",
       "    .dataframe tbody tr th:only-of-type {\n",
       "        vertical-align: middle;\n",
       "    }\n",
       "\n",
       "    .dataframe tbody tr th {\n",
       "        vertical-align: top;\n",
       "    }\n",
       "\n",
       "    .dataframe thead th {\n",
       "        text-align: right;\n",
       "    }\n",
       "</style>\n",
       "<table border=\"1\" class=\"dataframe\">\n",
       "  <thead>\n",
       "    <tr style=\"text-align: right;\">\n",
       "      <th></th>\n",
       "      <th>rest_id</th>\n",
       "      <th>url</th>\n",
       "      <th>address</th>\n",
       "      <th>rest_name</th>\n",
       "      <th>online_order</th>\n",
       "      <th>Table Booking Availability</th>\n",
       "      <th>Ratings out of 5</th>\n",
       "      <th>Voters Count</th>\n",
       "      <th>Phone No</th>\n",
       "      <th>location</th>\n",
       "      <th>Rest_type</th>\n",
       "      <th>Dish Varieties</th>\n",
       "      <th>Cuisines</th>\n",
       "      <th>Average Cost for two</th>\n",
       "      <th>Detail Reviews</th>\n",
       "      <th>Menu item</th>\n",
       "      <th>Listed type in ZOMOTO</th>\n",
       "      <th>Listed City in ZOMOTO</th>\n",
       "    </tr>\n",
       "  </thead>\n",
       "  <tbody>\n",
       "    <tr>\n",
       "      <th>103</th>\n",
       "      <td>43061.0</td>\n",
       "      <td>https://www.zomato.com/bangalore/caf%C3%A9-mor...</td>\n",
       "      <td>Le Parc Richmonde Building, Shantala nagar, Ri...</td>\n",
       "      <td>CafÃÂÃÂÃÂÃÂÃÂÃÂÃÂÃÂÃÂÃÂÃÂ...</td>\n",
       "      <td>Yes</td>\n",
       "      <td>No</td>\n",
       "      <td>4.1 /5</td>\n",
       "      <td>118</td>\n",
       "      <td>080 43021963\\n+91 7021430262</td>\n",
       "      <td>Richmond Road</td>\n",
       "      <td>Cafe</td>\n",
       "      <td>Coffee, Pizza, Pasta, Burgers, Tomato Soup, Eg...</td>\n",
       "      <td>BBQ, Continental, Burger, Wraps, Pizza, Cafe</td>\n",
       "      <td>700</td>\n",
       "      <td>[('Rated 3.0', 'RATED\\n  Ã\\x83Ã\\x83Ã\\x82Ã\\...</td>\n",
       "      <td>['Cafe Morish Veggie Pizza', 'Meat Cravers Piz...</td>\n",
       "      <td>Desserts</td>\n",
       "      <td>MG Road</td>\n",
       "    </tr>\n",
       "    <tr>\n",
       "      <th>266</th>\n",
       "      <td>17166.0</td>\n",
       "      <td>https://www.zomato.com/bangalore/l-81-cafe-hsr...</td>\n",
       "      <td>Sector 6, HSR Layout, HSR</td>\n",
       "      <td>#L-81 Cafe</td>\n",
       "      <td>Yes</td>\n",
       "      <td>No</td>\n",
       "      <td>3.9/5</td>\n",
       "      <td>48</td>\n",
       "      <td>+91 9986210891</td>\n",
       "      <td>HSR</td>\n",
       "      <td>Quick Bites</td>\n",
       "      <td>Burgers</td>\n",
       "      <td>Fast Food, Beverages</td>\n",
       "      <td>400</td>\n",
       "      <td>[('Rated 4.0', 'RATED\\n  This little cafe is s...</td>\n",
       "      <td>[]</td>\n",
       "      <td>Dine-out</td>\n",
       "      <td>HSR</td>\n",
       "    </tr>\n",
       "    <tr>\n",
       "      <th>273</th>\n",
       "      <td>24260.0</td>\n",
       "      <td>https://www.zomato.com/bangalore/draggers-caf%...</td>\n",
       "      <td>527, 4th Floor, 4th Cross, CMR Road, 2nd Block...</td>\n",
       "      <td>Draggers CafÃÂÃÂÃÂÃÂÃÂÃÂÃÂÃÂ©</td>\n",
       "      <td>Yes</td>\n",
       "      <td>No</td>\n",
       "      <td>4.1/5</td>\n",
       "      <td>274</td>\n",
       "      <td>+91 9632027110\\r\\n+91 9741385757</td>\n",
       "      <td>Kalyan Nagar</td>\n",
       "      <td>Cafe</td>\n",
       "      <td>Club Sandwich, Burgers, Basil Chicken, Pasta, ...</td>\n",
       "      <td>Cafe, Continental, North Indian</td>\n",
       "      <td>900</td>\n",
       "      <td>[('Rated 4.0', 'RATED\\n  This was a accidental...</td>\n",
       "      <td>['Onion Rings', 'Drums of Heaven', 'Sesame Hot...</td>\n",
       "      <td>Delivery</td>\n",
       "      <td>Kalyan Nagar</td>\n",
       "    </tr>\n",
       "    <tr>\n",
       "      <th>334</th>\n",
       "      <td>32221.0</td>\n",
       "      <td>https://www.zomato.com/bangalore/caf%C3%A9-s-k...</td>\n",
       "      <td>752, 1st Floor, 80 Feet Road, Koramangala 4th ...</td>\n",
       "      <td>CafÃÂÃÂÃÂÃÂÃÂÃÂÃÂÃÂ© S</td>\n",
       "      <td>No</td>\n",
       "      <td>No</td>\n",
       "      <td>3.2 /5</td>\n",
       "      <td>4</td>\n",
       "      <td>+91 8030752750\\r\\n080 25523350</td>\n",
       "      <td>Koramangala 4th Block</td>\n",
       "      <td>Cafe</td>\n",
       "      <td>NaN</td>\n",
       "      <td>Cafe, American, European</td>\n",
       "      <td>600</td>\n",
       "      <td>[('Rated 3.0', 'RATED\\n  We ordered. I hv neve...</td>\n",
       "      <td>[]</td>\n",
       "      <td>Cafes</td>\n",
       "      <td>Koramangala 6th Block</td>\n",
       "    </tr>\n",
       "    <tr>\n",
       "      <th>383</th>\n",
       "      <td>19330.0</td>\n",
       "      <td>https://www.zomato.com/bangalore/1131-bar-kitc...</td>\n",
       "      <td>100 Feet Road, HAL 2nd Stage, Indiranagar, Ban...</td>\n",
       "      <td>1131 Bar + Kitchen</td>\n",
       "      <td>No</td>\n",
       "      <td>Yes</td>\n",
       "      <td>4.6/5</td>\n",
       "      <td>2785</td>\n",
       "      <td>080 49652166</td>\n",
       "      <td>Indiranagar</td>\n",
       "      <td>Bar, Casual Dining</td>\n",
       "      <td>Pizza, Chocolate Cake, Cocktails, Beer, Nachos...</td>\n",
       "      <td>Continental, Asian, Italian, North Indian</td>\n",
       "      <td>1,500</td>\n",
       "      <td>[('Rated 5.0', 'RATED\\n  This rooftop restaura...</td>\n",
       "      <td>[]</td>\n",
       "      <td>Pubs and bars</td>\n",
       "      <td>Indiranagar</td>\n",
       "    </tr>\n",
       "    <tr>\n",
       "      <th>809</th>\n",
       "      <td>14776.0</td>\n",
       "      <td>https://www.zomato.com/bangalore/wafl-caf%C3%A...</td>\n",
       "      <td>G1 Smart Avenue, 28, Residency Road, Bangalore</td>\n",
       "      <td>WAFL CafÃÂÃÂÃÂÃÂÃÂÃÂÃÂÃÂ©</td>\n",
       "      <td>Yes</td>\n",
       "      <td>No</td>\n",
       "      <td>4.0/5</td>\n",
       "      <td>85</td>\n",
       "      <td>+91 9740780105</td>\n",
       "      <td>Residency Road</td>\n",
       "      <td>Dessert Parlor, Quick Bites</td>\n",
       "      <td>Waffles, Pie, Corn Dog</td>\n",
       "      <td>Cafe, Fast Food, Desserts, Beverages</td>\n",
       "      <td>400</td>\n",
       "      <td>[('Rated 5.0', \"RATED\\n  I have ordered a few ...</td>\n",
       "      <td>['Chocolate Overloaded Hong Kong Wafl', 'Spicy...</td>\n",
       "      <td>Delivery</td>\n",
       "      <td>Frazer Town</td>\n",
       "    </tr>\n",
       "    <tr>\n",
       "      <th>842</th>\n",
       "      <td>14776.0</td>\n",
       "      <td>https://www.zomato.com/bangalore/wafl-caf%C3%A...</td>\n",
       "      <td>G1 Smart Avenue, 28, Residency Road, Bangalore</td>\n",
       "      <td>WAFL CafÃÂÃÂÃÂÃÂÃÂÃÂÃÂÃÂ©</td>\n",
       "      <td>Yes</td>\n",
       "      <td>No</td>\n",
       "      <td>4.0/5</td>\n",
       "      <td>85</td>\n",
       "      <td>+91 9740780105</td>\n",
       "      <td>Residency Road</td>\n",
       "      <td>Dessert Parlor, Quick Bites</td>\n",
       "      <td>Waffles, Pie, Corn Dog</td>\n",
       "      <td>Cafe, Fast Food, Desserts, Beverages</td>\n",
       "      <td>400</td>\n",
       "      <td>[('Rated 5.0', \"RATED\\n  I have ordered a few ...</td>\n",
       "      <td>['Chocolate Overloaded Hong Kong Wafl', 'Spicy...</td>\n",
       "      <td>Delivery</td>\n",
       "      <td>Frazer Town</td>\n",
       "    </tr>\n",
       "    <tr>\n",
       "      <th>881</th>\n",
       "      <td>885.0</td>\n",
       "      <td>https://www.zomato.com/bangalore/refuel-banner...</td>\n",
       "      <td>7, Ground Floor, RR Commercial Complex, Akshay...</td>\n",
       "      <td>#refuel</td>\n",
       "      <td>Yes</td>\n",
       "      <td>No</td>\n",
       "      <td>3.7/5</td>\n",
       "      <td>37</td>\n",
       "      <td>+91 8971227222</td>\n",
       "      <td>Bannerghatta Road</td>\n",
       "      <td>Cafe</td>\n",
       "      <td>Thick Shakes, Sandwiches, Pasta, Mocktails</td>\n",
       "      <td>Cafe, Beverages</td>\n",
       "      <td>400</td>\n",
       "      <td>[('Rated 3.0', 'RATED\\n  We ordered for Schezw...</td>\n",
       "      <td>['Kit Kat Thick Shake', 'Ferrero Rocher Thick ...</td>\n",
       "      <td>Cafes</td>\n",
       "      <td>Bannerghatta Road</td>\n",
       "    </tr>\n",
       "    <tr>\n",
       "      <th>1082</th>\n",
       "      <td>1256.0</td>\n",
       "      <td>https://www.zomato.com/bangalore/24-7-food-ser...</td>\n",
       "      <td>21/22, Saifee Apartment, 5th Cross, 22nd Main ...</td>\n",
       "      <td>24/7 Food Service</td>\n",
       "      <td>Yes</td>\n",
       "      <td>No</td>\n",
       "      <td>3.0/5</td>\n",
       "      <td>7</td>\n",
       "      <td>+91 7795513215\\r\\r\\n+91 9945052352</td>\n",
       "      <td>JP Nagar</td>\n",
       "      <td>Takeaway, Delivery</td>\n",
       "      <td>NaN</td>\n",
       "      <td>South Indian, North Indian, Fast Food</td>\n",
       "      <td>300</td>\n",
       "      <td>[('Rated 1.0', 'RATED\\n  I don?t recommend thi...</td>\n",
       "      <td>['Murg Tikka Bowl', 'Chicken Fry', 'Phulka', '...</td>\n",
       "      <td>Delivery</td>\n",
       "      <td>Bannerghatta Road</td>\n",
       "    </tr>\n",
       "    <tr>\n",
       "      <th>1138</th>\n",
       "      <td>42260.0</td>\n",
       "      <td>https://www.zomato.com/bangalore/moto-store-ca...</td>\n",
       "      <td>9, Lake Square, Tank Road, Ulsoor, Bangalore</td>\n",
       "      <td>Moto Store &amp; CafÃÂÃÂÃÂÃÂÃÂÃÂÃÂÃ...</td>\n",
       "      <td>Yes</td>\n",
       "      <td>No</td>\n",
       "      <td>4.2 /5</td>\n",
       "      <td>383</td>\n",
       "      <td>080 49653126</td>\n",
       "      <td>Ulsoor</td>\n",
       "      <td>Cafe</td>\n",
       "      <td>Wedges, Maggi, Burgers, Waffles, Margherita Pi...</td>\n",
       "      <td>Pizza, Italian, Cafe, Burger, Finger Food, Fas...</td>\n",
       "      <td>500</td>\n",
       "      <td>[('Rated 3.0', 'RATED\\n  A small and neat litt...</td>\n",
       "      <td>['Classic Margarita Pizza', 'Farmers Special P...</td>\n",
       "      <td>Cafes</td>\n",
       "      <td>MG Road</td>\n",
       "    </tr>\n",
       "    <tr>\n",
       "      <th>1202</th>\n",
       "      <td>12652.0</td>\n",
       "      <td>https://www.zomato.com/bangalore/caf%C3%A9-mor...</td>\n",
       "      <td>Le Parc Richmonde Building, Shantala nagar, Ri...</td>\n",
       "      <td>CafÃÂÃÂÃÂÃÂÃÂÃÂÃÂÃÂ© Mor'ish</td>\n",
       "      <td>Yes</td>\n",
       "      <td>No</td>\n",
       "      <td>4.1/5</td>\n",
       "      <td>115</td>\n",
       "      <td>080 43021963\\r\\n+91 7021430262</td>\n",
       "      <td>Richmond Road</td>\n",
       "      <td>Cafe</td>\n",
       "      <td>Coffee, Pizza, Pasta, Burgers, Eggs Benedict, ...</td>\n",
       "      <td>BBQ, Continental, Burger, Wraps, Pizza, Cafe</td>\n",
       "      <td>700</td>\n",
       "      <td>[('Rated 3.0', 'RATED\\n  This is a cute and co...</td>\n",
       "      <td>['Cafe Morish Veggie Pizza', 'Meat Cravers Piz...</td>\n",
       "      <td>Dine-out</td>\n",
       "      <td>Church Street</td>\n",
       "    </tr>\n",
       "    <tr>\n",
       "      <th>1268</th>\n",
       "      <td>4512.0</td>\n",
       "      <td>https://www.zomato.com/bangalore/pi%C3%B1ata-1...</td>\n",
       "      <td>21, 6th Main,Embassy Pristine Iblur Village, B...</td>\n",
       "      <td>PiÃÂÃÂÃÂÃÂÃÂÃÂÃÂÃÂ±ata</td>\n",
       "      <td>No</td>\n",
       "      <td>No</td>\n",
       "      <td>3.7/5</td>\n",
       "      <td>19</td>\n",
       "      <td>+91 9866521834</td>\n",
       "      <td>Bellandur</td>\n",
       "      <td>Bakery</td>\n",
       "      <td>NaN</td>\n",
       "      <td>Bakery</td>\n",
       "      <td>400</td>\n",
       "      <td>[('Rated 5.0', 'RATED\\n  Awesome brownies and ...</td>\n",
       "      <td>[]</td>\n",
       "      <td>Desserts</td>\n",
       "      <td>Bellandur</td>\n",
       "    </tr>\n",
       "    <tr>\n",
       "      <th>1277</th>\n",
       "      <td>13697.0</td>\n",
       "      <td>https://www.zomato.com/bangalore/vibes-restro-...</td>\n",
       "      <td>Marasur Gate, Chandapura - Anekal Road, Near A...</td>\n",
       "      <td>#Vibes Restro</td>\n",
       "      <td>No</td>\n",
       "      <td>No</td>\n",
       "      <td>NaN</td>\n",
       "      <td>0</td>\n",
       "      <td>+91 9538911285</td>\n",
       "      <td>Electronic City</td>\n",
       "      <td>Casual Dining</td>\n",
       "      <td>NaN</td>\n",
       "      <td>Continental, Chinese, Italian</td>\n",
       "      <td>700</td>\n",
       "      <td>[('Rated 5.0', \"RATED\\n  Great service and don...</td>\n",
       "      <td>[]</td>\n",
       "      <td>Delivery</td>\n",
       "      <td>Electronic City</td>\n",
       "    </tr>\n",
       "    <tr>\n",
       "      <th>1324</th>\n",
       "      <td>19124.0</td>\n",
       "      <td>https://www.zomato.com/bangalore/caf%C3%A9-fel...</td>\n",
       "      <td>Level 5, 1 MG Mall, Swami Vivekananda Road, Tr...</td>\n",
       "      <td>CafÃÂÃÂÃÂÃÂÃÂÃÂÃÂÃÂ© Felix</td>\n",
       "      <td>Yes</td>\n",
       "      <td>Yes</td>\n",
       "      <td>4.4/5</td>\n",
       "      <td>689</td>\n",
       "      <td>080 22086644</td>\n",
       "      <td>MG Road</td>\n",
       "      <td>Casual Dining, Cafe</td>\n",
       "      <td>Burgers, Sandwiches, Peanut Butter Smoothie, M...</td>\n",
       "      <td>American, Cafe, Continental</td>\n",
       "      <td>1,700</td>\n",
       "      <td>[('Rated 4.0', \"RATED\\n  If you are planning o...</td>\n",
       "      <td>['Akuri on Multigrain Toast', 'Fresh Fruit Pla...</td>\n",
       "      <td>Dine-out</td>\n",
       "      <td>Indiranagar</td>\n",
       "    </tr>\n",
       "    <tr>\n",
       "      <th>1361</th>\n",
       "      <td>18765.0</td>\n",
       "      <td>https://www.zomato.com/bangalore/caf%C3%A9-sec...</td>\n",
       "      <td>27, Near to Airtel Office, 1st Stage, 2nd Main...</td>\n",
       "      <td>CafÃÂÃÂÃÂÃÂÃÂÃÂÃÂÃÂ© Secret Alley</td>\n",
       "      <td>Yes</td>\n",
       "      <td>No</td>\n",
       "      <td>4.0/5</td>\n",
       "      <td>84</td>\n",
       "      <td>080 43721095\\r\\n+91 7012633816</td>\n",
       "      <td>Indiranagar</td>\n",
       "      <td>Cafe</td>\n",
       "      <td>Burgers, Pasta, Chicken Wings, Chicken Popcorn...</td>\n",
       "      <td>Fast Food, Cafe</td>\n",
       "      <td>450</td>\n",
       "      <td>[('Rated 4.0', 'RATED\\n  CafÃ\\x83Ã\\x83Ã\\x82...</td>\n",
       "      <td>[]</td>\n",
       "      <td>Dine-out</td>\n",
       "      <td>Indiranagar</td>\n",
       "    </tr>\n",
       "    <tr>\n",
       "      <th>1482</th>\n",
       "      <td>42255.0</td>\n",
       "      <td>https://www.zomato.com/bangalore/wafl-caf%C3%A...</td>\n",
       "      <td>G1 Smart Avenue, 28, Residency Road, Bangalore</td>\n",
       "      <td>WAFL CafÃÂÃÂÃÂÃÂÃÂÃÂÃÂÃÂÃÂÃ...</td>\n",
       "      <td>Yes</td>\n",
       "      <td>No</td>\n",
       "      <td>3.9 /5</td>\n",
       "      <td>88</td>\n",
       "      <td>+91 9740780105</td>\n",
       "      <td>Residency Road</td>\n",
       "      <td>Dessert Parlor, Quick Bites</td>\n",
       "      <td>Waffles, Pie, Corn Dog</td>\n",
       "      <td>Desserts, Beverages, American</td>\n",
       "      <td>400</td>\n",
       "      <td>[('Rated 5.0', \"RATED\\n  I have ordered a few ...</td>\n",
       "      <td>['Red Velvet Wafl', 'Chocolate Overloaded Hong...</td>\n",
       "      <td>Cafes</td>\n",
       "      <td>MG Road</td>\n",
       "    </tr>\n",
       "    <tr>\n",
       "      <th>1510</th>\n",
       "      <td>14461.0</td>\n",
       "      <td>https://www.zomato.com/bangalore/pathumma-s-ki...</td>\n",
       "      <td>Velankani Drive Road, Phase 1, Electronic City...</td>\n",
       "      <td>Pathumma`s Kitchen</td>\n",
       "      <td>No</td>\n",
       "      <td>No</td>\n",
       "      <td>3.2/5</td>\n",
       "      <td>7</td>\n",
       "      <td>080 65605566</td>\n",
       "      <td>Electronic City</td>\n",
       "      <td>Quick Bites</td>\n",
       "      <td>NaN</td>\n",
       "      <td>North Indian</td>\n",
       "      <td>200</td>\n",
       "      <td>[('Rated 2.5', \"RATED\\n  There chicken dishes ...</td>\n",
       "      <td>[]</td>\n",
       "      <td>Dine-out</td>\n",
       "      <td>Electronic City</td>\n",
       "    </tr>\n",
       "    <tr>\n",
       "      <th>1578</th>\n",
       "      <td>11636.0</td>\n",
       "      <td>https://www.zomato.com/bangalore/urban-solace-...</td>\n",
       "      <td>32, Annaswamy Mudaliar Road, Opposite Ulsoor L...</td>\n",
       "      <td>Urban Solace - CafÃÂÃÂÃÂÃÂÃÂÃÂÃÂ...</td>\n",
       "      <td>Yes</td>\n",
       "      <td>No</td>\n",
       "      <td>3.9/5</td>\n",
       "      <td>462</td>\n",
       "      <td>+91 9945022177\\r\\n+91 9845013055</td>\n",
       "      <td>Ulsoor</td>\n",
       "      <td>Cafe, Casual Dining</td>\n",
       "      <td>Chocolate Shake, Wine, Burgers, Sangria, Parat...</td>\n",
       "      <td>Cafe, American, Continental, Steak</td>\n",
       "      <td>800</td>\n",
       "      <td>[('Rated 4.0', \"RATED\\n  Like it's name a real...</td>\n",
       "      <td>[]</td>\n",
       "      <td>Cafes</td>\n",
       "      <td>Church Street</td>\n",
       "    </tr>\n",
       "    <tr>\n",
       "      <th>1702</th>\n",
       "      <td>12824.0</td>\n",
       "      <td>https://www.zomato.com/bangalore/lifetree-caf%...</td>\n",
       "      <td>Melange Astris, 1, Langford Garden, Richmond R...</td>\n",
       "      <td>Lifetree CafÃÂÃÂÃÂÃÂÃÂÃÂÃÂÃÂ©</td>\n",
       "      <td>No</td>\n",
       "      <td>No</td>\n",
       "      <td>3.4/5</td>\n",
       "      <td>10</td>\n",
       "      <td>+91 7090718702</td>\n",
       "      <td>Richmond Road</td>\n",
       "      <td>Casual Dining</td>\n",
       "      <td>NaN</td>\n",
       "      <td>North Indian, Chinese, Continental</td>\n",
       "      <td>700</td>\n",
       "      <td>[('Rated 4.0', 'RATED\\n  Good place....\\nIt wa...</td>\n",
       "      <td>[]</td>\n",
       "      <td>Dine-out</td>\n",
       "      <td>Church Street</td>\n",
       "    </tr>\n",
       "    <tr>\n",
       "      <th>1759</th>\n",
       "      <td>42632.0</td>\n",
       "      <td>https://www.zomato.com/bangalore/wats-ur-scoop...</td>\n",
       "      <td>172, 2nd Cross Road, Indiranagar Double Road, ...</td>\n",
       "      <td>Wats Ur Scoop?</td>\n",
       "      <td>Yes</td>\n",
       "      <td>No</td>\n",
       "      <td>4.0 /5</td>\n",
       "      <td>56</td>\n",
       "      <td>080 41715878\\n+91 9538612243</td>\n",
       "      <td>Indiranagar</td>\n",
       "      <td>Dessert Parlor</td>\n",
       "      <td>NaN</td>\n",
       "      <td>Desserts, Ice Cream</td>\n",
       "      <td>300</td>\n",
       "      <td>[('Rated 5.0', 'RATED\\n  Wat a hidden gem in I...</td>\n",
       "      <td>[]</td>\n",
       "      <td>Delivery</td>\n",
       "      <td>MG Road</td>\n",
       "    </tr>\n",
       "  </tbody>\n",
       "</table>\n",
       "</div>"
      ],
      "text/plain": [
       "      rest_id                                                url  \\\n",
       "103   43061.0  https://www.zomato.com/bangalore/caf%C3%A9-mor...   \n",
       "266   17166.0  https://www.zomato.com/bangalore/l-81-cafe-hsr...   \n",
       "273   24260.0  https://www.zomato.com/bangalore/draggers-caf%...   \n",
       "334   32221.0  https://www.zomato.com/bangalore/caf%C3%A9-s-k...   \n",
       "383   19330.0  https://www.zomato.com/bangalore/1131-bar-kitc...   \n",
       "809   14776.0  https://www.zomato.com/bangalore/wafl-caf%C3%A...   \n",
       "842   14776.0  https://www.zomato.com/bangalore/wafl-caf%C3%A...   \n",
       "881     885.0  https://www.zomato.com/bangalore/refuel-banner...   \n",
       "1082   1256.0  https://www.zomato.com/bangalore/24-7-food-ser...   \n",
       "1138  42260.0  https://www.zomato.com/bangalore/moto-store-ca...   \n",
       "1202  12652.0  https://www.zomato.com/bangalore/caf%C3%A9-mor...   \n",
       "1268   4512.0  https://www.zomato.com/bangalore/pi%C3%B1ata-1...   \n",
       "1277  13697.0  https://www.zomato.com/bangalore/vibes-restro-...   \n",
       "1324  19124.0  https://www.zomato.com/bangalore/caf%C3%A9-fel...   \n",
       "1361  18765.0  https://www.zomato.com/bangalore/caf%C3%A9-sec...   \n",
       "1482  42255.0  https://www.zomato.com/bangalore/wafl-caf%C3%A...   \n",
       "1510  14461.0  https://www.zomato.com/bangalore/pathumma-s-ki...   \n",
       "1578  11636.0  https://www.zomato.com/bangalore/urban-solace-...   \n",
       "1702  12824.0  https://www.zomato.com/bangalore/lifetree-caf%...   \n",
       "1759  42632.0  https://www.zomato.com/bangalore/wats-ur-scoop...   \n",
       "\n",
       "                                                address  \\\n",
       "103   Le Parc Richmonde Building, Shantala nagar, Ri...   \n",
       "266                           Sector 6, HSR Layout, HSR   \n",
       "273   527, 4th Floor, 4th Cross, CMR Road, 2nd Block...   \n",
       "334   752, 1st Floor, 80 Feet Road, Koramangala 4th ...   \n",
       "383   100 Feet Road, HAL 2nd Stage, Indiranagar, Ban...   \n",
       "809      G1 Smart Avenue, 28, Residency Road, Bangalore   \n",
       "842      G1 Smart Avenue, 28, Residency Road, Bangalore   \n",
       "881   7, Ground Floor, RR Commercial Complex, Akshay...   \n",
       "1082  21/22, Saifee Apartment, 5th Cross, 22nd Main ...   \n",
       "1138       9, Lake Square, Tank Road, Ulsoor, Bangalore   \n",
       "1202  Le Parc Richmonde Building, Shantala nagar, Ri...   \n",
       "1268  21, 6th Main,Embassy Pristine Iblur Village, B...   \n",
       "1277  Marasur Gate, Chandapura - Anekal Road, Near A...   \n",
       "1324  Level 5, 1 MG Mall, Swami Vivekananda Road, Tr...   \n",
       "1361  27, Near to Airtel Office, 1st Stage, 2nd Main...   \n",
       "1482     G1 Smart Avenue, 28, Residency Road, Bangalore   \n",
       "1510  Velankani Drive Road, Phase 1, Electronic City...   \n",
       "1578  32, Annaswamy Mudaliar Road, Opposite Ulsoor L...   \n",
       "1702  Melange Astris, 1, Langford Garden, Richmond R...   \n",
       "1759  172, 2nd Cross Road, Indiranagar Double Road, ...   \n",
       "\n",
       "                                              rest_name online_order  \\\n",
       "103   CafÃÂÃÂÃÂÃÂÃÂÃÂÃÂÃÂÃÂÃÂÃÂ...          Yes   \n",
       "266                                          #L-81 Cafe          Yes   \n",
       "273        Draggers CafÃÂÃÂÃÂÃÂÃÂÃÂÃÂÃÂ©          Yes   \n",
       "334               CafÃÂÃÂÃÂÃÂÃÂÃÂÃÂÃÂ© S           No   \n",
       "383                                  1131 Bar + Kitchen           No   \n",
       "809            WAFL CafÃÂÃÂÃÂÃÂÃÂÃÂÃÂÃÂ©          Yes   \n",
       "842            WAFL CafÃÂÃÂÃÂÃÂÃÂÃÂÃÂÃÂ©          Yes   \n",
       "881                                             #refuel          Yes   \n",
       "1082                                  24/7 Food Service          Yes   \n",
       "1138  Moto Store & CafÃÂÃÂÃÂÃÂÃÂÃÂÃÂÃ...          Yes   \n",
       "1202        CafÃÂÃÂÃÂÃÂÃÂÃÂÃÂÃÂ© Mor'ish          Yes   \n",
       "1268              PiÃÂÃÂÃÂÃÂÃÂÃÂÃÂÃÂ±ata           No   \n",
       "1277                                      #Vibes Restro           No   \n",
       "1324          CafÃÂÃÂÃÂÃÂÃÂÃÂÃÂÃÂ© Felix          Yes   \n",
       "1361   CafÃÂÃÂÃÂÃÂÃÂÃÂÃÂÃÂ© Secret Alley          Yes   \n",
       "1482  WAFL CafÃÂÃÂÃÂÃÂÃÂÃÂÃÂÃÂÃÂÃ...          Yes   \n",
       "1510                                 Pathumma`s Kitchen           No   \n",
       "1578  Urban Solace - CafÃÂÃÂÃÂÃÂÃÂÃÂÃÂ...          Yes   \n",
       "1702       Lifetree CafÃÂÃÂÃÂÃÂÃÂÃÂÃÂÃÂ©           No   \n",
       "1759                                     Wats Ur Scoop?          Yes   \n",
       "\n",
       "     Table Booking Availability Ratings out of 5 Voters Count  \\\n",
       "103                          No           4.1 /5          118   \n",
       "266                          No            3.9/5           48   \n",
       "273                          No            4.1/5          274   \n",
       "334                          No           3.2 /5            4   \n",
       "383                         Yes            4.6/5         2785   \n",
       "809                          No            4.0/5           85   \n",
       "842                          No            4.0/5           85   \n",
       "881                          No            3.7/5           37   \n",
       "1082                         No            3.0/5            7   \n",
       "1138                         No           4.2 /5          383   \n",
       "1202                         No            4.1/5          115   \n",
       "1268                         No            3.7/5           19   \n",
       "1277                         No              NaN            0   \n",
       "1324                        Yes            4.4/5          689   \n",
       "1361                         No            4.0/5           84   \n",
       "1482                         No           3.9 /5           88   \n",
       "1510                         No            3.2/5            7   \n",
       "1578                         No            3.9/5          462   \n",
       "1702                         No            3.4/5           10   \n",
       "1759                         No           4.0 /5           56   \n",
       "\n",
       "                                Phone No               location  \\\n",
       "103         080 43021963\\n+91 7021430262          Richmond Road   \n",
       "266                       +91 9986210891                    HSR   \n",
       "273     +91 9632027110\\r\\n+91 9741385757           Kalyan Nagar   \n",
       "334       +91 8030752750\\r\\n080 25523350  Koramangala 4th Block   \n",
       "383                         080 49652166            Indiranagar   \n",
       "809                       +91 9740780105         Residency Road   \n",
       "842                       +91 9740780105         Residency Road   \n",
       "881                       +91 8971227222      Bannerghatta Road   \n",
       "1082  +91 7795513215\\r\\r\\n+91 9945052352               JP Nagar   \n",
       "1138                        080 49653126                 Ulsoor   \n",
       "1202      080 43021963\\r\\n+91 7021430262          Richmond Road   \n",
       "1268                      +91 9866521834              Bellandur   \n",
       "1277                      +91 9538911285        Electronic City   \n",
       "1324                        080 22086644                MG Road   \n",
       "1361      080 43721095\\r\\n+91 7012633816            Indiranagar   \n",
       "1482                      +91 9740780105         Residency Road   \n",
       "1510                        080 65605566        Electronic City   \n",
       "1578    +91 9945022177\\r\\n+91 9845013055                 Ulsoor   \n",
       "1702                      +91 7090718702          Richmond Road   \n",
       "1759        080 41715878\\n+91 9538612243            Indiranagar   \n",
       "\n",
       "                        Rest_type  \\\n",
       "103                          Cafe   \n",
       "266                   Quick Bites   \n",
       "273                          Cafe   \n",
       "334                          Cafe   \n",
       "383            Bar, Casual Dining   \n",
       "809   Dessert Parlor, Quick Bites   \n",
       "842   Dessert Parlor, Quick Bites   \n",
       "881                          Cafe   \n",
       "1082           Takeaway, Delivery   \n",
       "1138                         Cafe   \n",
       "1202                         Cafe   \n",
       "1268                       Bakery   \n",
       "1277                Casual Dining   \n",
       "1324          Casual Dining, Cafe   \n",
       "1361                         Cafe   \n",
       "1482  Dessert Parlor, Quick Bites   \n",
       "1510                  Quick Bites   \n",
       "1578          Cafe, Casual Dining   \n",
       "1702                Casual Dining   \n",
       "1759               Dessert Parlor   \n",
       "\n",
       "                                         Dish Varieties  \\\n",
       "103   Coffee, Pizza, Pasta, Burgers, Tomato Soup, Eg...   \n",
       "266                                             Burgers   \n",
       "273   Club Sandwich, Burgers, Basil Chicken, Pasta, ...   \n",
       "334                                                 NaN   \n",
       "383   Pizza, Chocolate Cake, Cocktails, Beer, Nachos...   \n",
       "809                              Waffles, Pie, Corn Dog   \n",
       "842                              Waffles, Pie, Corn Dog   \n",
       "881          Thick Shakes, Sandwiches, Pasta, Mocktails   \n",
       "1082                                                NaN   \n",
       "1138  Wedges, Maggi, Burgers, Waffles, Margherita Pi...   \n",
       "1202  Coffee, Pizza, Pasta, Burgers, Eggs Benedict, ...   \n",
       "1268                                                NaN   \n",
       "1277                                                NaN   \n",
       "1324  Burgers, Sandwiches, Peanut Butter Smoothie, M...   \n",
       "1361  Burgers, Pasta, Chicken Wings, Chicken Popcorn...   \n",
       "1482                             Waffles, Pie, Corn Dog   \n",
       "1510                                                NaN   \n",
       "1578  Chocolate Shake, Wine, Burgers, Sangria, Parat...   \n",
       "1702                                                NaN   \n",
       "1759                                                NaN   \n",
       "\n",
       "                                               Cuisines Average Cost for two  \\\n",
       "103        BBQ, Continental, Burger, Wraps, Pizza, Cafe                  700   \n",
       "266                                Fast Food, Beverages                  400   \n",
       "273                     Cafe, Continental, North Indian                  900   \n",
       "334                            Cafe, American, European                  600   \n",
       "383           Continental, Asian, Italian, North Indian                1,500   \n",
       "809                Cafe, Fast Food, Desserts, Beverages                  400   \n",
       "842                Cafe, Fast Food, Desserts, Beverages                  400   \n",
       "881                                     Cafe, Beverages                  400   \n",
       "1082              South Indian, North Indian, Fast Food                  300   \n",
       "1138  Pizza, Italian, Cafe, Burger, Finger Food, Fas...                  500   \n",
       "1202       BBQ, Continental, Burger, Wraps, Pizza, Cafe                  700   \n",
       "1268                                             Bakery                  400   \n",
       "1277                      Continental, Chinese, Italian                  700   \n",
       "1324                        American, Cafe, Continental                1,700   \n",
       "1361                                    Fast Food, Cafe                  450   \n",
       "1482                      Desserts, Beverages, American                  400   \n",
       "1510                                       North Indian                  200   \n",
       "1578                 Cafe, American, Continental, Steak                  800   \n",
       "1702                 North Indian, Chinese, Continental                  700   \n",
       "1759                                Desserts, Ice Cream                  300   \n",
       "\n",
       "                                         Detail Reviews  \\\n",
       "103   [('Rated 3.0', 'RATED\\n  Ã\\x83Ã\\x83Ã\\x82Ã\\...   \n",
       "266   [('Rated 4.0', 'RATED\\n  This little cafe is s...   \n",
       "273   [('Rated 4.0', 'RATED\\n  This was a accidental...   \n",
       "334   [('Rated 3.0', 'RATED\\n  We ordered. I hv neve...   \n",
       "383   [('Rated 5.0', 'RATED\\n  This rooftop restaura...   \n",
       "809   [('Rated 5.0', \"RATED\\n  I have ordered a few ...   \n",
       "842   [('Rated 5.0', \"RATED\\n  I have ordered a few ...   \n",
       "881   [('Rated 3.0', 'RATED\\n  We ordered for Schezw...   \n",
       "1082  [('Rated 1.0', 'RATED\\n  I don?t recommend thi...   \n",
       "1138  [('Rated 3.0', 'RATED\\n  A small and neat litt...   \n",
       "1202  [('Rated 3.0', 'RATED\\n  This is a cute and co...   \n",
       "1268  [('Rated 5.0', 'RATED\\n  Awesome brownies and ...   \n",
       "1277  [('Rated 5.0', \"RATED\\n  Great service and don...   \n",
       "1324  [('Rated 4.0', \"RATED\\n  If you are planning o...   \n",
       "1361  [('Rated 4.0', 'RATED\\n  CafÃ\\x83Ã\\x83Ã\\x82...   \n",
       "1482  [('Rated 5.0', \"RATED\\n  I have ordered a few ...   \n",
       "1510  [('Rated 2.5', \"RATED\\n  There chicken dishes ...   \n",
       "1578  [('Rated 4.0', \"RATED\\n  Like it's name a real...   \n",
       "1702  [('Rated 4.0', 'RATED\\n  Good place....\\nIt wa...   \n",
       "1759  [('Rated 5.0', 'RATED\\n  Wat a hidden gem in I...   \n",
       "\n",
       "                                              Menu item Listed type in ZOMOTO  \\\n",
       "103   ['Cafe Morish Veggie Pizza', 'Meat Cravers Piz...              Desserts   \n",
       "266                                                  []              Dine-out   \n",
       "273   ['Onion Rings', 'Drums of Heaven', 'Sesame Hot...              Delivery   \n",
       "334                                                  []                 Cafes   \n",
       "383                                                  []         Pubs and bars   \n",
       "809   ['Chocolate Overloaded Hong Kong Wafl', 'Spicy...              Delivery   \n",
       "842   ['Chocolate Overloaded Hong Kong Wafl', 'Spicy...              Delivery   \n",
       "881   ['Kit Kat Thick Shake', 'Ferrero Rocher Thick ...                 Cafes   \n",
       "1082  ['Murg Tikka Bowl', 'Chicken Fry', 'Phulka', '...              Delivery   \n",
       "1138  ['Classic Margarita Pizza', 'Farmers Special P...                 Cafes   \n",
       "1202  ['Cafe Morish Veggie Pizza', 'Meat Cravers Piz...              Dine-out   \n",
       "1268                                                 []              Desserts   \n",
       "1277                                                 []              Delivery   \n",
       "1324  ['Akuri on Multigrain Toast', 'Fresh Fruit Pla...              Dine-out   \n",
       "1361                                                 []              Dine-out   \n",
       "1482  ['Red Velvet Wafl', 'Chocolate Overloaded Hong...                 Cafes   \n",
       "1510                                                 []              Dine-out   \n",
       "1578                                                 []                 Cafes   \n",
       "1702                                                 []              Dine-out   \n",
       "1759                                                 []              Delivery   \n",
       "\n",
       "      Listed City in ZOMOTO  \n",
       "103                 MG Road  \n",
       "266                     HSR  \n",
       "273            Kalyan Nagar  \n",
       "334   Koramangala 6th Block  \n",
       "383             Indiranagar  \n",
       "809             Frazer Town  \n",
       "842             Frazer Town  \n",
       "881       Bannerghatta Road  \n",
       "1082      Bannerghatta Road  \n",
       "1138                MG Road  \n",
       "1202          Church Street  \n",
       "1268              Bellandur  \n",
       "1277        Electronic City  \n",
       "1324            Indiranagar  \n",
       "1361            Indiranagar  \n",
       "1482                MG Road  \n",
       "1510        Electronic City  \n",
       "1578          Church Street  \n",
       "1702          Church Street  \n",
       "1759                MG Road  "
      ]
     },
     "execution_count": 5,
     "metadata": {},
     "output_type": "execute_result"
    }
   ],
   "source": [
    "# pattern for detecting error values\n",
    "pattern = r'[^a-zA-Z0-9@&()!,.\\'\\s -]'\n",
    "\n",
    "# Use the pattern to filter out error values\n",
    "df[df['rest_name'].str.contains(pattern)].head(20)\n"
   ]
  },
  {
   "cell_type": "markdown",
   "metadata": {},
   "source": []
  },
  {
   "cell_type": "markdown",
   "metadata": {},
   "source": [
    "## Checking the shape of data, we can see it has 10000 rows and 18 columns"
   ]
  },
  {
   "cell_type": "code",
   "execution_count": 6,
   "metadata": {},
   "outputs": [
    {
     "data": {
      "text/plain": [
       "(10000, 18)"
      ]
     },
     "execution_count": 6,
     "metadata": {},
     "output_type": "execute_result"
    }
   ],
   "source": [
    "df.shape  # no. of rows and columns"
   ]
  },
  {
   "cell_type": "markdown",
   "metadata": {},
   "source": []
  },
  {
   "cell_type": "markdown",
   "metadata": {},
   "source": [
    "### Checking the datatype of the attributes"
   ]
  },
  {
   "cell_type": "code",
   "execution_count": 7,
   "metadata": {},
   "outputs": [
    {
     "name": "stdout",
     "output_type": "stream",
     "text": [
      "<class 'pandas.core.frame.DataFrame'>\n",
      "RangeIndex: 10000 entries, 1 to 10000\n",
      "Data columns (total 18 columns):\n",
      " #   Column                      Non-Null Count  Dtype  \n",
      "---  ------                      --------------  -----  \n",
      " 0   rest_id                     10000 non-null  float64\n",
      " 1   url                         10000 non-null  object \n",
      " 2   address                     10000 non-null  object \n",
      " 3   rest_name                   10000 non-null  object \n",
      " 4   online_order                10000 non-null  object \n",
      " 5   Table Booking Availability  10000 non-null  object \n",
      " 6   Ratings out of 5            8528 non-null   object \n",
      " 7   Voters Count                10000 non-null  object \n",
      " 8   Phone No                    9764 non-null   object \n",
      " 9   location                    9997 non-null   object \n",
      " 10  Rest_type                   9953 non-null   object \n",
      " 11  Dish Varieties              4642 non-null   object \n",
      " 12  Cuisines                    9995 non-null   object \n",
      " 13  Average Cost for two        9941 non-null   object \n",
      " 14  Detail Reviews              10000 non-null  object \n",
      " 15  Menu item                   10000 non-null  object \n",
      " 16  Listed type in ZOMOTO       10000 non-null  object \n",
      " 17  Listed City in ZOMOTO       10000 non-null  object \n",
      "dtypes: float64(1), object(17)\n",
      "memory usage: 1.4+ MB\n"
     ]
    }
   ],
   "source": [
    "df.info()"
   ]
  },
  {
   "cell_type": "markdown",
   "metadata": {},
   "source": []
  },
  {
   "cell_type": "markdown",
   "metadata": {},
   "source": [
    "*****************************************************************************************************************************************************\n",
    "\n",
    "\n",
    "*****************************************************************************************************************************************************"
   ]
  },
  {
   "cell_type": "markdown",
   "metadata": {},
   "source": []
  },
  {
   "cell_type": "markdown",
   "metadata": {},
   "source": [
    "## Working on column 'Ratings out of 5'"
   ]
  },
  {
   "cell_type": "code",
   "execution_count": 8,
   "metadata": {},
   "outputs": [],
   "source": [
    "df['Ratings out of 5'] = df['Ratings out of 5'].str.split('/').str[0]\n",
    "\n",
    "\n",
    "# we fetched out the data before '/'"
   ]
  },
  {
   "cell_type": "code",
   "execution_count": 9,
   "metadata": {},
   "outputs": [
    {
     "data": {
      "text/html": [
       "<div>\n",
       "<style scoped>\n",
       "    .dataframe tbody tr th:only-of-type {\n",
       "        vertical-align: middle;\n",
       "    }\n",
       "\n",
       "    .dataframe tbody tr th {\n",
       "        vertical-align: top;\n",
       "    }\n",
       "\n",
       "    .dataframe thead th {\n",
       "        text-align: right;\n",
       "    }\n",
       "</style>\n",
       "<table border=\"1\" class=\"dataframe\">\n",
       "  <thead>\n",
       "    <tr style=\"text-align: right;\">\n",
       "      <th></th>\n",
       "      <th>rest_id</th>\n",
       "      <th>url</th>\n",
       "      <th>address</th>\n",
       "      <th>rest_name</th>\n",
       "      <th>online_order</th>\n",
       "      <th>Table Booking Availability</th>\n",
       "      <th>Ratings out of 5</th>\n",
       "      <th>Voters Count</th>\n",
       "      <th>Phone No</th>\n",
       "      <th>location</th>\n",
       "      <th>Rest_type</th>\n",
       "      <th>Dish Varieties</th>\n",
       "      <th>Cuisines</th>\n",
       "      <th>Average Cost for two</th>\n",
       "      <th>Detail Reviews</th>\n",
       "      <th>Menu item</th>\n",
       "      <th>Listed type in ZOMOTO</th>\n",
       "      <th>Listed City in ZOMOTO</th>\n",
       "    </tr>\n",
       "  </thead>\n",
       "  <tbody>\n",
       "    <tr>\n",
       "      <th>1</th>\n",
       "      <td>14221.0</td>\n",
       "      <td>https://www.zomato.com/bangalore/shree-ranga-v...</td>\n",
       "      <td>366, Hosur Main Road, Attibele, Anekal Taluk, ...</td>\n",
       "      <td>Shree Ranga Vilas</td>\n",
       "      <td>No</td>\n",
       "      <td>No</td>\n",
       "      <td>3.2</td>\n",
       "      <td>7</td>\n",
       "      <td>080 29765044</td>\n",
       "      <td>Electronic City</td>\n",
       "      <td>Casual Dining</td>\n",
       "      <td>NaN</td>\n",
       "      <td>North Indian, South Indian, Chinese, Juices</td>\n",
       "      <td>500</td>\n",
       "      <td>[('Rated 3.0', 'RATED\\n  Typical South Indian ...</td>\n",
       "      <td>[]</td>\n",
       "      <td>Dine-out</td>\n",
       "      <td>Electronic City</td>\n",
       "    </tr>\n",
       "    <tr>\n",
       "      <th>2</th>\n",
       "      <td>43422.0</td>\n",
       "      <td>https://www.zomato.com/bangalore/sphyre-gatewa...</td>\n",
       "      <td>Gateway Hotel, 66, Residency Road, Bangalore</td>\n",
       "      <td>Sphyre - Gateway Hotel</td>\n",
       "      <td>No</td>\n",
       "      <td>No</td>\n",
       "      <td>3.6</td>\n",
       "      <td>45</td>\n",
       "      <td>+91 9886643495\\n+91 9898780004</td>\n",
       "      <td>Residency Road</td>\n",
       "      <td>Lounge</td>\n",
       "      <td>NaN</td>\n",
       "      <td>Finger Food</td>\n",
       "      <td>1,700</td>\n",
       "      <td>[('Rated 1.0', 'RATED\\n  Expected a good night...</td>\n",
       "      <td>[]</td>\n",
       "      <td>Dine-out</td>\n",
       "      <td>MG Road</td>\n",
       "    </tr>\n",
       "    <tr>\n",
       "      <th>3</th>\n",
       "      <td>16032.0</td>\n",
       "      <td>https://www.zomato.com/bangalore/popular-baker...</td>\n",
       "      <td>19, BDA Complex, HSR, Bangalore</td>\n",
       "      <td>Popular Bakery</td>\n",
       "      <td>No</td>\n",
       "      <td>No</td>\n",
       "      <td>3.7</td>\n",
       "      <td>36</td>\n",
       "      <td>+91 8105834605\\r\\n080 25722488</td>\n",
       "      <td>HSR</td>\n",
       "      <td>Dessert Parlor, Bakery</td>\n",
       "      <td>NaN</td>\n",
       "      <td>Desserts, Bakery</td>\n",
       "      <td>600</td>\n",
       "      <td>[('Rated 5.0', \"RATED\\n  This outlet is in HSR...</td>\n",
       "      <td>[]</td>\n",
       "      <td>Delivery</td>\n",
       "      <td>HSR</td>\n",
       "    </tr>\n",
       "    <tr>\n",
       "      <th>4</th>\n",
       "      <td>51635.0</td>\n",
       "      <td>https://www.zomato.com/bangalore/thai-chinese-...</td>\n",
       "      <td>7, Anurhh Arcade, Hoodi Road, Kodigehalli Road...</td>\n",
       "      <td>Thai &amp; Chinese Fast Food</td>\n",
       "      <td>No</td>\n",
       "      <td>No</td>\n",
       "      <td>3.4</td>\n",
       "      <td>7</td>\n",
       "      <td>+91 9206260085\\n+91 7619416923</td>\n",
       "      <td>KR Puram</td>\n",
       "      <td>Quick Bites</td>\n",
       "      <td>NaN</td>\n",
       "      <td>Chinese, Thai</td>\n",
       "      <td>400</td>\n",
       "      <td>[('Rated 5.0', 'RATED\\n  Its Looking delicious...</td>\n",
       "      <td>[]</td>\n",
       "      <td>Dine-out</td>\n",
       "      <td>Whitefield</td>\n",
       "    </tr>\n",
       "    <tr>\n",
       "      <th>5</th>\n",
       "      <td>23424.0</td>\n",
       "      <td>https://www.zomato.com/bangalore/grill-on-whee...</td>\n",
       "      <td>Kothanuru Main Road, Puttenahalli Road, Natara...</td>\n",
       "      <td>Grill On Wheels</td>\n",
       "      <td>No</td>\n",
       "      <td>No</td>\n",
       "      <td>NEW</td>\n",
       "      <td>0</td>\n",
       "      <td>+91 9901979901</td>\n",
       "      <td>JP Nagar</td>\n",
       "      <td>Quick Bites</td>\n",
       "      <td>NaN</td>\n",
       "      <td>North Indian, Chinese, BBQ, Arabian, Fast Food</td>\n",
       "      <td>400</td>\n",
       "      <td>[]</td>\n",
       "      <td>[]</td>\n",
       "      <td>Dine-out</td>\n",
       "      <td>JP Nagar</td>\n",
       "    </tr>\n",
       "  </tbody>\n",
       "</table>\n",
       "</div>"
      ],
      "text/plain": [
       "   rest_id                                                url  \\\n",
       "1  14221.0  https://www.zomato.com/bangalore/shree-ranga-v...   \n",
       "2  43422.0  https://www.zomato.com/bangalore/sphyre-gatewa...   \n",
       "3  16032.0  https://www.zomato.com/bangalore/popular-baker...   \n",
       "4  51635.0  https://www.zomato.com/bangalore/thai-chinese-...   \n",
       "5  23424.0  https://www.zomato.com/bangalore/grill-on-whee...   \n",
       "\n",
       "                                             address  \\\n",
       "1  366, Hosur Main Road, Attibele, Anekal Taluk, ...   \n",
       "2       Gateway Hotel, 66, Residency Road, Bangalore   \n",
       "3                    19, BDA Complex, HSR, Bangalore   \n",
       "4  7, Anurhh Arcade, Hoodi Road, Kodigehalli Road...   \n",
       "5  Kothanuru Main Road, Puttenahalli Road, Natara...   \n",
       "\n",
       "                  rest_name online_order Table Booking Availability  \\\n",
       "1         Shree Ranga Vilas           No                         No   \n",
       "2    Sphyre - Gateway Hotel           No                         No   \n",
       "3            Popular Bakery           No                         No   \n",
       "4  Thai & Chinese Fast Food           No                         No   \n",
       "5           Grill On Wheels           No                         No   \n",
       "\n",
       "  Ratings out of 5 Voters Count                        Phone No  \\\n",
       "1              3.2            7                    080 29765044   \n",
       "2             3.6            45  +91 9886643495\\n+91 9898780004   \n",
       "3              3.7           36  +91 8105834605\\r\\n080 25722488   \n",
       "4             3.4             7  +91 9206260085\\n+91 7619416923   \n",
       "5              NEW            0                  +91 9901979901   \n",
       "\n",
       "          location               Rest_type Dish Varieties  \\\n",
       "1  Electronic City           Casual Dining            NaN   \n",
       "2   Residency Road                  Lounge            NaN   \n",
       "3              HSR  Dessert Parlor, Bakery            NaN   \n",
       "4         KR Puram             Quick Bites            NaN   \n",
       "5         JP Nagar             Quick Bites            NaN   \n",
       "\n",
       "                                         Cuisines Average Cost for two  \\\n",
       "1     North Indian, South Indian, Chinese, Juices                  500   \n",
       "2                                     Finger Food                1,700   \n",
       "3                                Desserts, Bakery                  600   \n",
       "4                                   Chinese, Thai                  400   \n",
       "5  North Indian, Chinese, BBQ, Arabian, Fast Food                  400   \n",
       "\n",
       "                                      Detail Reviews Menu item  \\\n",
       "1  [('Rated 3.0', 'RATED\\n  Typical South Indian ...        []   \n",
       "2  [('Rated 1.0', 'RATED\\n  Expected a good night...        []   \n",
       "3  [('Rated 5.0', \"RATED\\n  This outlet is in HSR...        []   \n",
       "4  [('Rated 5.0', 'RATED\\n  Its Looking delicious...        []   \n",
       "5                                                 []        []   \n",
       "\n",
       "  Listed type in ZOMOTO Listed City in ZOMOTO  \n",
       "1              Dine-out       Electronic City  \n",
       "2              Dine-out               MG Road  \n",
       "3              Delivery                   HSR  \n",
       "4              Dine-out            Whitefield  \n",
       "5              Dine-out              JP Nagar  "
      ]
     },
     "execution_count": 9,
     "metadata": {},
     "output_type": "execute_result"
    }
   ],
   "source": [
    "df.head()"
   ]
  },
  {
   "cell_type": "markdown",
   "metadata": {},
   "source": []
  },
  {
   "cell_type": "markdown",
   "metadata": {},
   "source": [
    "*****************************************************************************************************************************************************\n",
    "\n",
    "\n",
    "*****************************************************************************************************************************************************"
   ]
  },
  {
   "cell_type": "markdown",
   "metadata": {},
   "source": []
  },
  {
   "cell_type": "markdown",
   "metadata": {},
   "source": [
    "## Numeric Value columns had the datatype as object, we need to convert back it into the numeric format:"
   ]
  },
  {
   "cell_type": "code",
   "execution_count": 10,
   "metadata": {},
   "outputs": [],
   "source": [
    "df['Ratings out of 5'] = pd.to_numeric(df['Ratings out of 5'], errors=\"coerce\")\n",
    "df['Voters Count'] = pd.to_numeric(df['Voters Count'], errors=\"coerce\")\n",
    "df['Average Cost for two'] = pd.to_numeric(df['Average Cost for two'], errors=\"coerce\")"
   ]
  },
  {
   "cell_type": "code",
   "execution_count": 11,
   "metadata": {},
   "outputs": [
    {
     "data": {
      "text/html": [
       "<div>\n",
       "<style scoped>\n",
       "    .dataframe tbody tr th:only-of-type {\n",
       "        vertical-align: middle;\n",
       "    }\n",
       "\n",
       "    .dataframe tbody tr th {\n",
       "        vertical-align: top;\n",
       "    }\n",
       "\n",
       "    .dataframe thead th {\n",
       "        text-align: right;\n",
       "    }\n",
       "</style>\n",
       "<table border=\"1\" class=\"dataframe\">\n",
       "  <thead>\n",
       "    <tr style=\"text-align: right;\">\n",
       "      <th></th>\n",
       "      <th>rest_id</th>\n",
       "      <th>url</th>\n",
       "      <th>address</th>\n",
       "      <th>rest_name</th>\n",
       "      <th>online_order</th>\n",
       "      <th>Table Booking Availability</th>\n",
       "      <th>Ratings out of 5</th>\n",
       "      <th>Voters Count</th>\n",
       "      <th>Phone No</th>\n",
       "      <th>location</th>\n",
       "      <th>Rest_type</th>\n",
       "      <th>Dish Varieties</th>\n",
       "      <th>Cuisines</th>\n",
       "      <th>Average Cost for two</th>\n",
       "      <th>Detail Reviews</th>\n",
       "      <th>Menu item</th>\n",
       "      <th>Listed type in ZOMOTO</th>\n",
       "      <th>Listed City in ZOMOTO</th>\n",
       "    </tr>\n",
       "  </thead>\n",
       "  <tbody>\n",
       "    <tr>\n",
       "      <th>1</th>\n",
       "      <td>14221.0</td>\n",
       "      <td>https://www.zomato.com/bangalore/shree-ranga-v...</td>\n",
       "      <td>366, Hosur Main Road, Attibele, Anekal Taluk, ...</td>\n",
       "      <td>Shree Ranga Vilas</td>\n",
       "      <td>No</td>\n",
       "      <td>No</td>\n",
       "      <td>3.2</td>\n",
       "      <td>7</td>\n",
       "      <td>080 29765044</td>\n",
       "      <td>Electronic City</td>\n",
       "      <td>Casual Dining</td>\n",
       "      <td>NaN</td>\n",
       "      <td>North Indian, South Indian, Chinese, Juices</td>\n",
       "      <td>500.0</td>\n",
       "      <td>[('Rated 3.0', 'RATED\\n  Typical South Indian ...</td>\n",
       "      <td>[]</td>\n",
       "      <td>Dine-out</td>\n",
       "      <td>Electronic City</td>\n",
       "    </tr>\n",
       "    <tr>\n",
       "      <th>2</th>\n",
       "      <td>43422.0</td>\n",
       "      <td>https://www.zomato.com/bangalore/sphyre-gatewa...</td>\n",
       "      <td>Gateway Hotel, 66, Residency Road, Bangalore</td>\n",
       "      <td>Sphyre - Gateway Hotel</td>\n",
       "      <td>No</td>\n",
       "      <td>No</td>\n",
       "      <td>3.6</td>\n",
       "      <td>45</td>\n",
       "      <td>+91 9886643495\\n+91 9898780004</td>\n",
       "      <td>Residency Road</td>\n",
       "      <td>Lounge</td>\n",
       "      <td>NaN</td>\n",
       "      <td>Finger Food</td>\n",
       "      <td>NaN</td>\n",
       "      <td>[('Rated 1.0', 'RATED\\n  Expected a good night...</td>\n",
       "      <td>[]</td>\n",
       "      <td>Dine-out</td>\n",
       "      <td>MG Road</td>\n",
       "    </tr>\n",
       "    <tr>\n",
       "      <th>3</th>\n",
       "      <td>16032.0</td>\n",
       "      <td>https://www.zomato.com/bangalore/popular-baker...</td>\n",
       "      <td>19, BDA Complex, HSR, Bangalore</td>\n",
       "      <td>Popular Bakery</td>\n",
       "      <td>No</td>\n",
       "      <td>No</td>\n",
       "      <td>3.7</td>\n",
       "      <td>36</td>\n",
       "      <td>+91 8105834605\\r\\n080 25722488</td>\n",
       "      <td>HSR</td>\n",
       "      <td>Dessert Parlor, Bakery</td>\n",
       "      <td>NaN</td>\n",
       "      <td>Desserts, Bakery</td>\n",
       "      <td>600.0</td>\n",
       "      <td>[('Rated 5.0', \"RATED\\n  This outlet is in HSR...</td>\n",
       "      <td>[]</td>\n",
       "      <td>Delivery</td>\n",
       "      <td>HSR</td>\n",
       "    </tr>\n",
       "    <tr>\n",
       "      <th>4</th>\n",
       "      <td>51635.0</td>\n",
       "      <td>https://www.zomato.com/bangalore/thai-chinese-...</td>\n",
       "      <td>7, Anurhh Arcade, Hoodi Road, Kodigehalli Road...</td>\n",
       "      <td>Thai &amp; Chinese Fast Food</td>\n",
       "      <td>No</td>\n",
       "      <td>No</td>\n",
       "      <td>3.4</td>\n",
       "      <td>7</td>\n",
       "      <td>+91 9206260085\\n+91 7619416923</td>\n",
       "      <td>KR Puram</td>\n",
       "      <td>Quick Bites</td>\n",
       "      <td>NaN</td>\n",
       "      <td>Chinese, Thai</td>\n",
       "      <td>400.0</td>\n",
       "      <td>[('Rated 5.0', 'RATED\\n  Its Looking delicious...</td>\n",
       "      <td>[]</td>\n",
       "      <td>Dine-out</td>\n",
       "      <td>Whitefield</td>\n",
       "    </tr>\n",
       "    <tr>\n",
       "      <th>5</th>\n",
       "      <td>23424.0</td>\n",
       "      <td>https://www.zomato.com/bangalore/grill-on-whee...</td>\n",
       "      <td>Kothanuru Main Road, Puttenahalli Road, Natara...</td>\n",
       "      <td>Grill On Wheels</td>\n",
       "      <td>No</td>\n",
       "      <td>No</td>\n",
       "      <td>NaN</td>\n",
       "      <td>0</td>\n",
       "      <td>+91 9901979901</td>\n",
       "      <td>JP Nagar</td>\n",
       "      <td>Quick Bites</td>\n",
       "      <td>NaN</td>\n",
       "      <td>North Indian, Chinese, BBQ, Arabian, Fast Food</td>\n",
       "      <td>400.0</td>\n",
       "      <td>[]</td>\n",
       "      <td>[]</td>\n",
       "      <td>Dine-out</td>\n",
       "      <td>JP Nagar</td>\n",
       "    </tr>\n",
       "  </tbody>\n",
       "</table>\n",
       "</div>"
      ],
      "text/plain": [
       "   rest_id                                                url  \\\n",
       "1  14221.0  https://www.zomato.com/bangalore/shree-ranga-v...   \n",
       "2  43422.0  https://www.zomato.com/bangalore/sphyre-gatewa...   \n",
       "3  16032.0  https://www.zomato.com/bangalore/popular-baker...   \n",
       "4  51635.0  https://www.zomato.com/bangalore/thai-chinese-...   \n",
       "5  23424.0  https://www.zomato.com/bangalore/grill-on-whee...   \n",
       "\n",
       "                                             address  \\\n",
       "1  366, Hosur Main Road, Attibele, Anekal Taluk, ...   \n",
       "2       Gateway Hotel, 66, Residency Road, Bangalore   \n",
       "3                    19, BDA Complex, HSR, Bangalore   \n",
       "4  7, Anurhh Arcade, Hoodi Road, Kodigehalli Road...   \n",
       "5  Kothanuru Main Road, Puttenahalli Road, Natara...   \n",
       "\n",
       "                  rest_name online_order Table Booking Availability  \\\n",
       "1         Shree Ranga Vilas           No                         No   \n",
       "2    Sphyre - Gateway Hotel           No                         No   \n",
       "3            Popular Bakery           No                         No   \n",
       "4  Thai & Chinese Fast Food           No                         No   \n",
       "5           Grill On Wheels           No                         No   \n",
       "\n",
       "   Ratings out of 5  Voters Count                        Phone No  \\\n",
       "1               3.2             7                    080 29765044   \n",
       "2               3.6            45  +91 9886643495\\n+91 9898780004   \n",
       "3               3.7            36  +91 8105834605\\r\\n080 25722488   \n",
       "4               3.4             7  +91 9206260085\\n+91 7619416923   \n",
       "5               NaN             0                  +91 9901979901   \n",
       "\n",
       "          location               Rest_type Dish Varieties  \\\n",
       "1  Electronic City           Casual Dining            NaN   \n",
       "2   Residency Road                  Lounge            NaN   \n",
       "3              HSR  Dessert Parlor, Bakery            NaN   \n",
       "4         KR Puram             Quick Bites            NaN   \n",
       "5         JP Nagar             Quick Bites            NaN   \n",
       "\n",
       "                                         Cuisines  Average Cost for two  \\\n",
       "1     North Indian, South Indian, Chinese, Juices                 500.0   \n",
       "2                                     Finger Food                   NaN   \n",
       "3                                Desserts, Bakery                 600.0   \n",
       "4                                   Chinese, Thai                 400.0   \n",
       "5  North Indian, Chinese, BBQ, Arabian, Fast Food                 400.0   \n",
       "\n",
       "                                      Detail Reviews Menu item  \\\n",
       "1  [('Rated 3.0', 'RATED\\n  Typical South Indian ...        []   \n",
       "2  [('Rated 1.0', 'RATED\\n  Expected a good night...        []   \n",
       "3  [('Rated 5.0', \"RATED\\n  This outlet is in HSR...        []   \n",
       "4  [('Rated 5.0', 'RATED\\n  Its Looking delicious...        []   \n",
       "5                                                 []        []   \n",
       "\n",
       "  Listed type in ZOMOTO Listed City in ZOMOTO  \n",
       "1              Dine-out       Electronic City  \n",
       "2              Dine-out               MG Road  \n",
       "3              Delivery                   HSR  \n",
       "4              Dine-out            Whitefield  \n",
       "5              Dine-out              JP Nagar  "
      ]
     },
     "execution_count": 11,
     "metadata": {},
     "output_type": "execute_result"
    }
   ],
   "source": [
    "df.head(5)"
   ]
  },
  {
   "cell_type": "markdown",
   "metadata": {},
   "source": [
    "*****************************************************************************************************************************************************\n",
    "\n",
    "\n",
    "*****************************************************************************************************************************************************"
   ]
  },
  {
   "cell_type": "markdown",
   "metadata": {},
   "source": [
    "## Checking the datatype to verify that numeric column got converted from object to numeric"
   ]
  },
  {
   "cell_type": "code",
   "execution_count": 12,
   "metadata": {},
   "outputs": [
    {
     "name": "stdout",
     "output_type": "stream",
     "text": [
      "<class 'pandas.core.frame.DataFrame'>\n",
      "RangeIndex: 10000 entries, 1 to 10000\n",
      "Data columns (total 18 columns):\n",
      " #   Column                      Non-Null Count  Dtype  \n",
      "---  ------                      --------------  -----  \n",
      " 0   rest_id                     10000 non-null  float64\n",
      " 1   url                         10000 non-null  object \n",
      " 2   address                     10000 non-null  object \n",
      " 3   rest_name                   10000 non-null  object \n",
      " 4   online_order                10000 non-null  object \n",
      " 5   Table Booking Availability  10000 non-null  object \n",
      " 6   Ratings out of 5            8118 non-null   float64\n",
      " 7   Voters Count                10000 non-null  int64  \n",
      " 8   Phone No                    9764 non-null   object \n",
      " 9   location                    9997 non-null   object \n",
      " 10  Rest_type                   9953 non-null   object \n",
      " 11  Dish Varieties              4642 non-null   object \n",
      " 12  Cuisines                    9995 non-null   object \n",
      " 13  Average Cost for two        8586 non-null   float64\n",
      " 14  Detail Reviews              10000 non-null  object \n",
      " 15  Menu item                   10000 non-null  object \n",
      " 16  Listed type in ZOMOTO       10000 non-null  object \n",
      " 17  Listed City in ZOMOTO       10000 non-null  object \n",
      "dtypes: float64(3), int64(1), object(14)\n",
      "memory usage: 1.4+ MB\n"
     ]
    }
   ],
   "source": [
    "df.info()"
   ]
  },
  {
   "cell_type": "markdown",
   "metadata": {},
   "source": []
  },
  {
   "cell_type": "markdown",
   "metadata": {},
   "source": [
    "## converting the id from float to integer"
   ]
  },
  {
   "cell_type": "code",
   "execution_count": 13,
   "metadata": {},
   "outputs": [],
   "source": [
    "df['rest_id'] = df['rest_id'].astype('Int64')"
   ]
  },
  {
   "cell_type": "code",
   "execution_count": 14,
   "metadata": {},
   "outputs": [
    {
     "name": "stdout",
     "output_type": "stream",
     "text": [
      "<class 'pandas.core.frame.DataFrame'>\n",
      "RangeIndex: 10000 entries, 1 to 10000\n",
      "Data columns (total 18 columns):\n",
      " #   Column                      Non-Null Count  Dtype  \n",
      "---  ------                      --------------  -----  \n",
      " 0   rest_id                     10000 non-null  Int64  \n",
      " 1   url                         10000 non-null  object \n",
      " 2   address                     10000 non-null  object \n",
      " 3   rest_name                   10000 non-null  object \n",
      " 4   online_order                10000 non-null  object \n",
      " 5   Table Booking Availability  10000 non-null  object \n",
      " 6   Ratings out of 5            8118 non-null   float64\n",
      " 7   Voters Count                10000 non-null  int64  \n",
      " 8   Phone No                    9764 non-null   object \n",
      " 9   location                    9997 non-null   object \n",
      " 10  Rest_type                   9953 non-null   object \n",
      " 11  Dish Varieties              4642 non-null   object \n",
      " 12  Cuisines                    9995 non-null   object \n",
      " 13  Average Cost for two        8586 non-null   float64\n",
      " 14  Detail Reviews              10000 non-null  object \n",
      " 15  Menu item                   10000 non-null  object \n",
      " 16  Listed type in ZOMOTO       10000 non-null  object \n",
      " 17  Listed City in ZOMOTO       10000 non-null  object \n",
      "dtypes: Int64(1), float64(2), int64(1), object(14)\n",
      "memory usage: 1.4+ MB\n"
     ]
    }
   ],
   "source": [
    "df.info()"
   ]
  },
  {
   "cell_type": "markdown",
   "metadata": {},
   "source": []
  },
  {
   "cell_type": "markdown",
   "metadata": {},
   "source": [
    "*****************************************************************************************************************************************************\n",
    "\n",
    "\n",
    "*****************************************************************************************************************************************************"
   ]
  },
  {
   "cell_type": "markdown",
   "metadata": {},
   "source": [
    "## Checking for the duplicate rows in our data"
   ]
  },
  {
   "cell_type": "code",
   "execution_count": 15,
   "metadata": {},
   "outputs": [
    {
     "data": {
      "text/plain": [
       "(10000, 18)"
      ]
     },
     "execution_count": 15,
     "metadata": {},
     "output_type": "execute_result"
    }
   ],
   "source": [
    "df.shape  ## Verifying the shape of original data"
   ]
  },
  {
   "cell_type": "code",
   "execution_count": 16,
   "metadata": {},
   "outputs": [
    {
     "data": {
      "text/plain": [
       "(909, 18)"
      ]
     },
     "execution_count": 16,
     "metadata": {},
     "output_type": "execute_result"
    }
   ],
   "source": [
    "df[df.duplicated()].shape   ## Checking the number of duplicate rows, we can see that there is 909 duplicate rows"
   ]
  },
  {
   "cell_type": "code",
   "execution_count": 17,
   "metadata": {},
   "outputs": [],
   "source": [
    "df.drop_duplicates(inplace=True)  ## deleting the duplicate rows"
   ]
  },
  {
   "cell_type": "code",
   "execution_count": 18,
   "metadata": {},
   "outputs": [
    {
     "data": {
      "text/plain": [
       "(9091, 18)"
      ]
     },
     "execution_count": 18,
     "metadata": {},
     "output_type": "execute_result"
    }
   ],
   "source": [
    "df.shape   ## post deleting checking the size of rows again"
   ]
  },
  {
   "cell_type": "code",
   "execution_count": 19,
   "metadata": {},
   "outputs": [
    {
     "data": {
      "text/html": [
       "<div>\n",
       "<style scoped>\n",
       "    .dataframe tbody tr th:only-of-type {\n",
       "        vertical-align: middle;\n",
       "    }\n",
       "\n",
       "    .dataframe tbody tr th {\n",
       "        vertical-align: top;\n",
       "    }\n",
       "\n",
       "    .dataframe thead th {\n",
       "        text-align: right;\n",
       "    }\n",
       "</style>\n",
       "<table border=\"1\" class=\"dataframe\">\n",
       "  <thead>\n",
       "    <tr style=\"text-align: right;\">\n",
       "      <th></th>\n",
       "      <th>rest_id</th>\n",
       "      <th>url</th>\n",
       "      <th>address</th>\n",
       "      <th>rest_name</th>\n",
       "      <th>online_order</th>\n",
       "      <th>Table Booking Availability</th>\n",
       "      <th>Ratings out of 5</th>\n",
       "      <th>Voters Count</th>\n",
       "      <th>Phone No</th>\n",
       "      <th>location</th>\n",
       "      <th>Rest_type</th>\n",
       "      <th>Dish Varieties</th>\n",
       "      <th>Cuisines</th>\n",
       "      <th>Average Cost for two</th>\n",
       "      <th>Detail Reviews</th>\n",
       "      <th>Menu item</th>\n",
       "      <th>Listed type in ZOMOTO</th>\n",
       "      <th>Listed City in ZOMOTO</th>\n",
       "    </tr>\n",
       "  </thead>\n",
       "  <tbody>\n",
       "    <tr>\n",
       "      <th>1</th>\n",
       "      <td>14221</td>\n",
       "      <td>https://www.zomato.com/bangalore/shree-ranga-v...</td>\n",
       "      <td>366, Hosur Main Road, Attibele, Anekal Taluk, ...</td>\n",
       "      <td>Shree Ranga Vilas</td>\n",
       "      <td>No</td>\n",
       "      <td>No</td>\n",
       "      <td>3.2</td>\n",
       "      <td>7</td>\n",
       "      <td>080 29765044</td>\n",
       "      <td>Electronic City</td>\n",
       "      <td>Casual Dining</td>\n",
       "      <td>NaN</td>\n",
       "      <td>North Indian, South Indian, Chinese, Juices</td>\n",
       "      <td>500.0</td>\n",
       "      <td>[('Rated 3.0', 'RATED\\n  Typical South Indian ...</td>\n",
       "      <td>[]</td>\n",
       "      <td>Dine-out</td>\n",
       "      <td>Electronic City</td>\n",
       "    </tr>\n",
       "    <tr>\n",
       "      <th>2</th>\n",
       "      <td>43422</td>\n",
       "      <td>https://www.zomato.com/bangalore/sphyre-gatewa...</td>\n",
       "      <td>Gateway Hotel, 66, Residency Road, Bangalore</td>\n",
       "      <td>Sphyre - Gateway Hotel</td>\n",
       "      <td>No</td>\n",
       "      <td>No</td>\n",
       "      <td>3.6</td>\n",
       "      <td>45</td>\n",
       "      <td>+91 9886643495\\n+91 9898780004</td>\n",
       "      <td>Residency Road</td>\n",
       "      <td>Lounge</td>\n",
       "      <td>NaN</td>\n",
       "      <td>Finger Food</td>\n",
       "      <td>NaN</td>\n",
       "      <td>[('Rated 1.0', 'RATED\\n  Expected a good night...</td>\n",
       "      <td>[]</td>\n",
       "      <td>Dine-out</td>\n",
       "      <td>MG Road</td>\n",
       "    </tr>\n",
       "    <tr>\n",
       "      <th>3</th>\n",
       "      <td>16032</td>\n",
       "      <td>https://www.zomato.com/bangalore/popular-baker...</td>\n",
       "      <td>19, BDA Complex, HSR, Bangalore</td>\n",
       "      <td>Popular Bakery</td>\n",
       "      <td>No</td>\n",
       "      <td>No</td>\n",
       "      <td>3.7</td>\n",
       "      <td>36</td>\n",
       "      <td>+91 8105834605\\r\\n080 25722488</td>\n",
       "      <td>HSR</td>\n",
       "      <td>Dessert Parlor, Bakery</td>\n",
       "      <td>NaN</td>\n",
       "      <td>Desserts, Bakery</td>\n",
       "      <td>600.0</td>\n",
       "      <td>[('Rated 5.0', \"RATED\\n  This outlet is in HSR...</td>\n",
       "      <td>[]</td>\n",
       "      <td>Delivery</td>\n",
       "      <td>HSR</td>\n",
       "    </tr>\n",
       "    <tr>\n",
       "      <th>4</th>\n",
       "      <td>51635</td>\n",
       "      <td>https://www.zomato.com/bangalore/thai-chinese-...</td>\n",
       "      <td>7, Anurhh Arcade, Hoodi Road, Kodigehalli Road...</td>\n",
       "      <td>Thai &amp; Chinese Fast Food</td>\n",
       "      <td>No</td>\n",
       "      <td>No</td>\n",
       "      <td>3.4</td>\n",
       "      <td>7</td>\n",
       "      <td>+91 9206260085\\n+91 7619416923</td>\n",
       "      <td>KR Puram</td>\n",
       "      <td>Quick Bites</td>\n",
       "      <td>NaN</td>\n",
       "      <td>Chinese, Thai</td>\n",
       "      <td>400.0</td>\n",
       "      <td>[('Rated 5.0', 'RATED\\n  Its Looking delicious...</td>\n",
       "      <td>[]</td>\n",
       "      <td>Dine-out</td>\n",
       "      <td>Whitefield</td>\n",
       "    </tr>\n",
       "    <tr>\n",
       "      <th>5</th>\n",
       "      <td>23424</td>\n",
       "      <td>https://www.zomato.com/bangalore/grill-on-whee...</td>\n",
       "      <td>Kothanuru Main Road, Puttenahalli Road, Natara...</td>\n",
       "      <td>Grill On Wheels</td>\n",
       "      <td>No</td>\n",
       "      <td>No</td>\n",
       "      <td>NaN</td>\n",
       "      <td>0</td>\n",
       "      <td>+91 9901979901</td>\n",
       "      <td>JP Nagar</td>\n",
       "      <td>Quick Bites</td>\n",
       "      <td>NaN</td>\n",
       "      <td>North Indian, Chinese, BBQ, Arabian, Fast Food</td>\n",
       "      <td>400.0</td>\n",
       "      <td>[]</td>\n",
       "      <td>[]</td>\n",
       "      <td>Dine-out</td>\n",
       "      <td>JP Nagar</td>\n",
       "    </tr>\n",
       "  </tbody>\n",
       "</table>\n",
       "</div>"
      ],
      "text/plain": [
       "   rest_id                                                url  \\\n",
       "1    14221  https://www.zomato.com/bangalore/shree-ranga-v...   \n",
       "2    43422  https://www.zomato.com/bangalore/sphyre-gatewa...   \n",
       "3    16032  https://www.zomato.com/bangalore/popular-baker...   \n",
       "4    51635  https://www.zomato.com/bangalore/thai-chinese-...   \n",
       "5    23424  https://www.zomato.com/bangalore/grill-on-whee...   \n",
       "\n",
       "                                             address  \\\n",
       "1  366, Hosur Main Road, Attibele, Anekal Taluk, ...   \n",
       "2       Gateway Hotel, 66, Residency Road, Bangalore   \n",
       "3                    19, BDA Complex, HSR, Bangalore   \n",
       "4  7, Anurhh Arcade, Hoodi Road, Kodigehalli Road...   \n",
       "5  Kothanuru Main Road, Puttenahalli Road, Natara...   \n",
       "\n",
       "                  rest_name online_order Table Booking Availability  \\\n",
       "1         Shree Ranga Vilas           No                         No   \n",
       "2    Sphyre - Gateway Hotel           No                         No   \n",
       "3            Popular Bakery           No                         No   \n",
       "4  Thai & Chinese Fast Food           No                         No   \n",
       "5           Grill On Wheels           No                         No   \n",
       "\n",
       "   Ratings out of 5  Voters Count                        Phone No  \\\n",
       "1               3.2             7                    080 29765044   \n",
       "2               3.6            45  +91 9886643495\\n+91 9898780004   \n",
       "3               3.7            36  +91 8105834605\\r\\n080 25722488   \n",
       "4               3.4             7  +91 9206260085\\n+91 7619416923   \n",
       "5               NaN             0                  +91 9901979901   \n",
       "\n",
       "          location               Rest_type Dish Varieties  \\\n",
       "1  Electronic City           Casual Dining            NaN   \n",
       "2   Residency Road                  Lounge            NaN   \n",
       "3              HSR  Dessert Parlor, Bakery            NaN   \n",
       "4         KR Puram             Quick Bites            NaN   \n",
       "5         JP Nagar             Quick Bites            NaN   \n",
       "\n",
       "                                         Cuisines  Average Cost for two  \\\n",
       "1     North Indian, South Indian, Chinese, Juices                 500.0   \n",
       "2                                     Finger Food                   NaN   \n",
       "3                                Desserts, Bakery                 600.0   \n",
       "4                                   Chinese, Thai                 400.0   \n",
       "5  North Indian, Chinese, BBQ, Arabian, Fast Food                 400.0   \n",
       "\n",
       "                                      Detail Reviews Menu item  \\\n",
       "1  [('Rated 3.0', 'RATED\\n  Typical South Indian ...        []   \n",
       "2  [('Rated 1.0', 'RATED\\n  Expected a good night...        []   \n",
       "3  [('Rated 5.0', \"RATED\\n  This outlet is in HSR...        []   \n",
       "4  [('Rated 5.0', 'RATED\\n  Its Looking delicious...        []   \n",
       "5                                                 []        []   \n",
       "\n",
       "  Listed type in ZOMOTO Listed City in ZOMOTO  \n",
       "1              Dine-out       Electronic City  \n",
       "2              Dine-out               MG Road  \n",
       "3              Delivery                   HSR  \n",
       "4              Dine-out            Whitefield  \n",
       "5              Dine-out              JP Nagar  "
      ]
     },
     "execution_count": 19,
     "metadata": {},
     "output_type": "execute_result"
    }
   ],
   "source": [
    "df.head(5)"
   ]
  },
  {
   "cell_type": "markdown",
   "metadata": {},
   "source": []
  },
  {
   "cell_type": "markdown",
   "metadata": {},
   "source": [
    "*****************************************************************************************************************************************************\n",
    "\n",
    "\n",
    "*****************************************************************************************************************************************************"
   ]
  },
  {
   "cell_type": "markdown",
   "metadata": {},
   "source": []
  },
  {
   "cell_type": "markdown",
   "metadata": {},
   "source": [
    "## Replacing Garbage Values in below columns"
   ]
  },
  {
   "cell_type": "code",
   "execution_count": 20,
   "metadata": {},
   "outputs": [],
   "source": [
    "df['Menu item'].replace({'[]' : np.NaN, \"\" : np.NaN}, inplace=True)\n",
    "df['Detail Reviews'].replace({'[]' : np.NaN, \"\" : np.NaN}, inplace=True)"
   ]
  },
  {
   "cell_type": "code",
   "execution_count": 21,
   "metadata": {},
   "outputs": [
    {
     "data": {
      "text/html": [
       "<div>\n",
       "<style scoped>\n",
       "    .dataframe tbody tr th:only-of-type {\n",
       "        vertical-align: middle;\n",
       "    }\n",
       "\n",
       "    .dataframe tbody tr th {\n",
       "        vertical-align: top;\n",
       "    }\n",
       "\n",
       "    .dataframe thead th {\n",
       "        text-align: right;\n",
       "    }\n",
       "</style>\n",
       "<table border=\"1\" class=\"dataframe\">\n",
       "  <thead>\n",
       "    <tr style=\"text-align: right;\">\n",
       "      <th></th>\n",
       "      <th>rest_id</th>\n",
       "      <th>url</th>\n",
       "      <th>address</th>\n",
       "      <th>rest_name</th>\n",
       "      <th>online_order</th>\n",
       "      <th>Table Booking Availability</th>\n",
       "      <th>Ratings out of 5</th>\n",
       "      <th>Voters Count</th>\n",
       "      <th>Phone No</th>\n",
       "      <th>location</th>\n",
       "      <th>Rest_type</th>\n",
       "      <th>Dish Varieties</th>\n",
       "      <th>Cuisines</th>\n",
       "      <th>Average Cost for two</th>\n",
       "      <th>Detail Reviews</th>\n",
       "      <th>Menu item</th>\n",
       "      <th>Listed type in ZOMOTO</th>\n",
       "      <th>Listed City in ZOMOTO</th>\n",
       "    </tr>\n",
       "  </thead>\n",
       "  <tbody>\n",
       "    <tr>\n",
       "      <th>1</th>\n",
       "      <td>14221</td>\n",
       "      <td>https://www.zomato.com/bangalore/shree-ranga-v...</td>\n",
       "      <td>366, Hosur Main Road, Attibele, Anekal Taluk, ...</td>\n",
       "      <td>Shree Ranga Vilas</td>\n",
       "      <td>No</td>\n",
       "      <td>No</td>\n",
       "      <td>3.2</td>\n",
       "      <td>7</td>\n",
       "      <td>080 29765044</td>\n",
       "      <td>Electronic City</td>\n",
       "      <td>Casual Dining</td>\n",
       "      <td>NaN</td>\n",
       "      <td>North Indian, South Indian, Chinese, Juices</td>\n",
       "      <td>500.0</td>\n",
       "      <td>[('Rated 3.0', 'RATED\\n  Typical South Indian ...</td>\n",
       "      <td>NaN</td>\n",
       "      <td>Dine-out</td>\n",
       "      <td>Electronic City</td>\n",
       "    </tr>\n",
       "    <tr>\n",
       "      <th>2</th>\n",
       "      <td>43422</td>\n",
       "      <td>https://www.zomato.com/bangalore/sphyre-gatewa...</td>\n",
       "      <td>Gateway Hotel, 66, Residency Road, Bangalore</td>\n",
       "      <td>Sphyre - Gateway Hotel</td>\n",
       "      <td>No</td>\n",
       "      <td>No</td>\n",
       "      <td>3.6</td>\n",
       "      <td>45</td>\n",
       "      <td>+91 9886643495\\n+91 9898780004</td>\n",
       "      <td>Residency Road</td>\n",
       "      <td>Lounge</td>\n",
       "      <td>NaN</td>\n",
       "      <td>Finger Food</td>\n",
       "      <td>NaN</td>\n",
       "      <td>[('Rated 1.0', 'RATED\\n  Expected a good night...</td>\n",
       "      <td>NaN</td>\n",
       "      <td>Dine-out</td>\n",
       "      <td>MG Road</td>\n",
       "    </tr>\n",
       "    <tr>\n",
       "      <th>3</th>\n",
       "      <td>16032</td>\n",
       "      <td>https://www.zomato.com/bangalore/popular-baker...</td>\n",
       "      <td>19, BDA Complex, HSR, Bangalore</td>\n",
       "      <td>Popular Bakery</td>\n",
       "      <td>No</td>\n",
       "      <td>No</td>\n",
       "      <td>3.7</td>\n",
       "      <td>36</td>\n",
       "      <td>+91 8105834605\\r\\n080 25722488</td>\n",
       "      <td>HSR</td>\n",
       "      <td>Dessert Parlor, Bakery</td>\n",
       "      <td>NaN</td>\n",
       "      <td>Desserts, Bakery</td>\n",
       "      <td>600.0</td>\n",
       "      <td>[('Rated 5.0', \"RATED\\n  This outlet is in HSR...</td>\n",
       "      <td>NaN</td>\n",
       "      <td>Delivery</td>\n",
       "      <td>HSR</td>\n",
       "    </tr>\n",
       "    <tr>\n",
       "      <th>4</th>\n",
       "      <td>51635</td>\n",
       "      <td>https://www.zomato.com/bangalore/thai-chinese-...</td>\n",
       "      <td>7, Anurhh Arcade, Hoodi Road, Kodigehalli Road...</td>\n",
       "      <td>Thai &amp; Chinese Fast Food</td>\n",
       "      <td>No</td>\n",
       "      <td>No</td>\n",
       "      <td>3.4</td>\n",
       "      <td>7</td>\n",
       "      <td>+91 9206260085\\n+91 7619416923</td>\n",
       "      <td>KR Puram</td>\n",
       "      <td>Quick Bites</td>\n",
       "      <td>NaN</td>\n",
       "      <td>Chinese, Thai</td>\n",
       "      <td>400.0</td>\n",
       "      <td>[('Rated 5.0', 'RATED\\n  Its Looking delicious...</td>\n",
       "      <td>NaN</td>\n",
       "      <td>Dine-out</td>\n",
       "      <td>Whitefield</td>\n",
       "    </tr>\n",
       "    <tr>\n",
       "      <th>5</th>\n",
       "      <td>23424</td>\n",
       "      <td>https://www.zomato.com/bangalore/grill-on-whee...</td>\n",
       "      <td>Kothanuru Main Road, Puttenahalli Road, Natara...</td>\n",
       "      <td>Grill On Wheels</td>\n",
       "      <td>No</td>\n",
       "      <td>No</td>\n",
       "      <td>NaN</td>\n",
       "      <td>0</td>\n",
       "      <td>+91 9901979901</td>\n",
       "      <td>JP Nagar</td>\n",
       "      <td>Quick Bites</td>\n",
       "      <td>NaN</td>\n",
       "      <td>North Indian, Chinese, BBQ, Arabian, Fast Food</td>\n",
       "      <td>400.0</td>\n",
       "      <td>NaN</td>\n",
       "      <td>NaN</td>\n",
       "      <td>Dine-out</td>\n",
       "      <td>JP Nagar</td>\n",
       "    </tr>\n",
       "  </tbody>\n",
       "</table>\n",
       "</div>"
      ],
      "text/plain": [
       "   rest_id                                                url  \\\n",
       "1    14221  https://www.zomato.com/bangalore/shree-ranga-v...   \n",
       "2    43422  https://www.zomato.com/bangalore/sphyre-gatewa...   \n",
       "3    16032  https://www.zomato.com/bangalore/popular-baker...   \n",
       "4    51635  https://www.zomato.com/bangalore/thai-chinese-...   \n",
       "5    23424  https://www.zomato.com/bangalore/grill-on-whee...   \n",
       "\n",
       "                                             address  \\\n",
       "1  366, Hosur Main Road, Attibele, Anekal Taluk, ...   \n",
       "2       Gateway Hotel, 66, Residency Road, Bangalore   \n",
       "3                    19, BDA Complex, HSR, Bangalore   \n",
       "4  7, Anurhh Arcade, Hoodi Road, Kodigehalli Road...   \n",
       "5  Kothanuru Main Road, Puttenahalli Road, Natara...   \n",
       "\n",
       "                  rest_name online_order Table Booking Availability  \\\n",
       "1         Shree Ranga Vilas           No                         No   \n",
       "2    Sphyre - Gateway Hotel           No                         No   \n",
       "3            Popular Bakery           No                         No   \n",
       "4  Thai & Chinese Fast Food           No                         No   \n",
       "5           Grill On Wheels           No                         No   \n",
       "\n",
       "   Ratings out of 5  Voters Count                        Phone No  \\\n",
       "1               3.2             7                    080 29765044   \n",
       "2               3.6            45  +91 9886643495\\n+91 9898780004   \n",
       "3               3.7            36  +91 8105834605\\r\\n080 25722488   \n",
       "4               3.4             7  +91 9206260085\\n+91 7619416923   \n",
       "5               NaN             0                  +91 9901979901   \n",
       "\n",
       "          location               Rest_type Dish Varieties  \\\n",
       "1  Electronic City           Casual Dining            NaN   \n",
       "2   Residency Road                  Lounge            NaN   \n",
       "3              HSR  Dessert Parlor, Bakery            NaN   \n",
       "4         KR Puram             Quick Bites            NaN   \n",
       "5         JP Nagar             Quick Bites            NaN   \n",
       "\n",
       "                                         Cuisines  Average Cost for two  \\\n",
       "1     North Indian, South Indian, Chinese, Juices                 500.0   \n",
       "2                                     Finger Food                   NaN   \n",
       "3                                Desserts, Bakery                 600.0   \n",
       "4                                   Chinese, Thai                 400.0   \n",
       "5  North Indian, Chinese, BBQ, Arabian, Fast Food                 400.0   \n",
       "\n",
       "                                      Detail Reviews Menu item  \\\n",
       "1  [('Rated 3.0', 'RATED\\n  Typical South Indian ...       NaN   \n",
       "2  [('Rated 1.0', 'RATED\\n  Expected a good night...       NaN   \n",
       "3  [('Rated 5.0', \"RATED\\n  This outlet is in HSR...       NaN   \n",
       "4  [('Rated 5.0', 'RATED\\n  Its Looking delicious...       NaN   \n",
       "5                                                NaN       NaN   \n",
       "\n",
       "  Listed type in ZOMOTO Listed City in ZOMOTO  \n",
       "1              Dine-out       Electronic City  \n",
       "2              Dine-out               MG Road  \n",
       "3              Delivery                   HSR  \n",
       "4              Dine-out            Whitefield  \n",
       "5              Dine-out              JP Nagar  "
      ]
     },
     "execution_count": 21,
     "metadata": {},
     "output_type": "execute_result"
    }
   ],
   "source": [
    "df.head(5)"
   ]
  },
  {
   "cell_type": "markdown",
   "metadata": {},
   "source": []
  },
  {
   "cell_type": "markdown",
   "metadata": {},
   "source": []
  },
  {
   "cell_type": "markdown",
   "metadata": {},
   "source": [
    "## Removing blank spaces from lead and trail for column \"Restaurant Name\""
   ]
  },
  {
   "cell_type": "code",
   "execution_count": 22,
   "metadata": {},
   "outputs": [],
   "source": [
    "df['rest_name'] = df['rest_name'].str.strip()"
   ]
  },
  {
   "cell_type": "markdown",
   "metadata": {},
   "source": [
    "*****************************************************************************************************************************************************\n",
    "\n",
    "\n",
    "*****************************************************************************************************************************************************"
   ]
  },
  {
   "cell_type": "markdown",
   "metadata": {},
   "source": []
  },
  {
   "cell_type": "markdown",
   "metadata": {},
   "source": [
    "## Checking for some more garbage values in the rest_name column"
   ]
  },
  {
   "cell_type": "code",
   "execution_count": 23,
   "metadata": {},
   "outputs": [
    {
     "data": {
      "text/html": [
       "<div>\n",
       "<style scoped>\n",
       "    .dataframe tbody tr th:only-of-type {\n",
       "        vertical-align: middle;\n",
       "    }\n",
       "\n",
       "    .dataframe tbody tr th {\n",
       "        vertical-align: top;\n",
       "    }\n",
       "\n",
       "    .dataframe thead th {\n",
       "        text-align: right;\n",
       "    }\n",
       "</style>\n",
       "<table border=\"1\" class=\"dataframe\">\n",
       "  <thead>\n",
       "    <tr style=\"text-align: right;\">\n",
       "      <th></th>\n",
       "      <th>rest_id</th>\n",
       "      <th>rest_name</th>\n",
       "    </tr>\n",
       "  </thead>\n",
       "  <tbody>\n",
       "    <tr>\n",
       "      <th>9</th>\n",
       "      <td>29058</td>\n",
       "      <td>Cafe 58</td>\n",
       "    </tr>\n",
       "    <tr>\n",
       "      <th>98</th>\n",
       "      <td>48351</td>\n",
       "      <td>Cafe @ Elanza</td>\n",
       "    </tr>\n",
       "    <tr>\n",
       "      <th>103</th>\n",
       "      <td>43061</td>\n",
       "      <td>CafÃÂÃÂÃÂÃÂÃÂÃÂÃÂÃÂÃÂÃÂÃÂ...</td>\n",
       "    </tr>\n",
       "    <tr>\n",
       "      <th>132</th>\n",
       "      <td>17608</td>\n",
       "      <td>Cafe Coffee Day</td>\n",
       "    </tr>\n",
       "    <tr>\n",
       "      <th>159</th>\n",
       "      <td>34860</td>\n",
       "      <td>Cafe 221B</td>\n",
       "    </tr>\n",
       "    <tr>\n",
       "      <th>201</th>\n",
       "      <td>15457</td>\n",
       "      <td>Cafe Iftar</td>\n",
       "    </tr>\n",
       "    <tr>\n",
       "      <th>240</th>\n",
       "      <td>49891</td>\n",
       "      <td>Cafe Jezve</td>\n",
       "    </tr>\n",
       "    <tr>\n",
       "      <th>304</th>\n",
       "      <td>10992</td>\n",
       "      <td>Caffe Pascucci</td>\n",
       "    </tr>\n",
       "    <tr>\n",
       "      <th>334</th>\n",
       "      <td>32221</td>\n",
       "      <td>CafÃÂÃÂÃÂÃÂÃÂÃÂÃÂÃÂ© S</td>\n",
       "    </tr>\n",
       "    <tr>\n",
       "      <th>338</th>\n",
       "      <td>33536</td>\n",
       "      <td>Cafe Remix</td>\n",
       "    </tr>\n",
       "    <tr>\n",
       "      <th>347</th>\n",
       "      <td>12336</td>\n",
       "      <td>Cafe Imroze</td>\n",
       "    </tr>\n",
       "    <tr>\n",
       "      <th>365</th>\n",
       "      <td>45518</td>\n",
       "      <td>Cafe Coffee Day</td>\n",
       "    </tr>\n",
       "    <tr>\n",
       "      <th>379</th>\n",
       "      <td>45542</td>\n",
       "      <td>Cafe Oleiva</td>\n",
       "    </tr>\n",
       "    <tr>\n",
       "      <th>614</th>\n",
       "      <td>13550</td>\n",
       "      <td>Cafe Palnad</td>\n",
       "    </tr>\n",
       "    <tr>\n",
       "      <th>706</th>\n",
       "      <td>37768</td>\n",
       "      <td>Cafe @ Elanza</td>\n",
       "    </tr>\n",
       "  </tbody>\n",
       "</table>\n",
       "</div>"
      ],
      "text/plain": [
       "     rest_id                                          rest_name\n",
       "9      29058                                            Cafe 58\n",
       "98     48351                                      Cafe @ Elanza\n",
       "103    43061  CafÃÂÃÂÃÂÃÂÃÂÃÂÃÂÃÂÃÂÃÂÃÂ...\n",
       "132    17608                                    Cafe Coffee Day\n",
       "159    34860                                          Cafe 221B\n",
       "201    15457                                         Cafe Iftar\n",
       "240    49891                                         Cafe Jezve\n",
       "304    10992                                     Caffe Pascucci\n",
       "334    32221              CafÃÂÃÂÃÂÃÂÃÂÃÂÃÂÃÂ© S\n",
       "338    33536                                         Cafe Remix\n",
       "347    12336                                        Cafe Imroze\n",
       "365    45518                                    Cafe Coffee Day\n",
       "379    45542                                        Cafe Oleiva\n",
       "614    13550                                        Cafe Palnad\n",
       "706    37768                                      Cafe @ Elanza"
      ]
     },
     "execution_count": 23,
     "metadata": {},
     "output_type": "execute_result"
    }
   ],
   "source": [
    "df[df['rest_name'].str.startswith(\"Caf\")].loc[:, ['rest_id','rest_name']].head(15)"
   ]
  },
  {
   "cell_type": "markdown",
   "metadata": {},
   "source": []
  },
  {
   "cell_type": "markdown",
   "metadata": {},
   "source": [
    "*****************************************************************************************************************************************************\n",
    "\n",
    "\n",
    "*****************************************************************************************************************************************************"
   ]
  },
  {
   "cell_type": "markdown",
   "metadata": {},
   "source": []
  },
  {
   "cell_type": "markdown",
   "metadata": {},
   "source": [
    "## Removing the garbage values"
   ]
  },
  {
   "cell_type": "code",
   "execution_count": 24,
   "metadata": {},
   "outputs": [],
   "source": [
    "\n",
    "# Function to clean the rest_name column\n",
    "def clean_restaurant_name(name):\n",
    "    cleaned_name = re.sub('[^A-Za-z0-9.!`&~@\\'\\s -]', '', name)    \n",
    "    return cleaned_name.strip()\n",
    "\n",
    "# Clean the rest_name column\n",
    "df['rest_name'] = df['rest_name'].apply(clean_restaurant_name)"
   ]
  },
  {
   "cell_type": "code",
   "execution_count": 25,
   "metadata": {},
   "outputs": [
    {
     "data": {
      "text/html": [
       "<div>\n",
       "<style scoped>\n",
       "    .dataframe tbody tr th:only-of-type {\n",
       "        vertical-align: middle;\n",
       "    }\n",
       "\n",
       "    .dataframe tbody tr th {\n",
       "        vertical-align: top;\n",
       "    }\n",
       "\n",
       "    .dataframe thead th {\n",
       "        text-align: right;\n",
       "    }\n",
       "</style>\n",
       "<table border=\"1\" class=\"dataframe\">\n",
       "  <thead>\n",
       "    <tr style=\"text-align: right;\">\n",
       "      <th></th>\n",
       "      <th>rest_id</th>\n",
       "      <th>rest_name</th>\n",
       "    </tr>\n",
       "  </thead>\n",
       "  <tbody>\n",
       "    <tr>\n",
       "      <th>9</th>\n",
       "      <td>29058</td>\n",
       "      <td>Cafe 58</td>\n",
       "    </tr>\n",
       "    <tr>\n",
       "      <th>98</th>\n",
       "      <td>48351</td>\n",
       "      <td>Cafe @ Elanza</td>\n",
       "    </tr>\n",
       "    <tr>\n",
       "      <th>103</th>\n",
       "      <td>43061</td>\n",
       "      <td>Caf Mor'ish</td>\n",
       "    </tr>\n",
       "    <tr>\n",
       "      <th>132</th>\n",
       "      <td>17608</td>\n",
       "      <td>Cafe Coffee Day</td>\n",
       "    </tr>\n",
       "    <tr>\n",
       "      <th>159</th>\n",
       "      <td>34860</td>\n",
       "      <td>Cafe 221B</td>\n",
       "    </tr>\n",
       "    <tr>\n",
       "      <th>201</th>\n",
       "      <td>15457</td>\n",
       "      <td>Cafe Iftar</td>\n",
       "    </tr>\n",
       "    <tr>\n",
       "      <th>240</th>\n",
       "      <td>49891</td>\n",
       "      <td>Cafe Jezve</td>\n",
       "    </tr>\n",
       "    <tr>\n",
       "      <th>304</th>\n",
       "      <td>10992</td>\n",
       "      <td>Caffe Pascucci</td>\n",
       "    </tr>\n",
       "    <tr>\n",
       "      <th>334</th>\n",
       "      <td>32221</td>\n",
       "      <td>Caf S</td>\n",
       "    </tr>\n",
       "    <tr>\n",
       "      <th>338</th>\n",
       "      <td>33536</td>\n",
       "      <td>Cafe Remix</td>\n",
       "    </tr>\n",
       "    <tr>\n",
       "      <th>347</th>\n",
       "      <td>12336</td>\n",
       "      <td>Cafe Imroze</td>\n",
       "    </tr>\n",
       "    <tr>\n",
       "      <th>365</th>\n",
       "      <td>45518</td>\n",
       "      <td>Cafe Coffee Day</td>\n",
       "    </tr>\n",
       "    <tr>\n",
       "      <th>379</th>\n",
       "      <td>45542</td>\n",
       "      <td>Cafe Oleiva</td>\n",
       "    </tr>\n",
       "    <tr>\n",
       "      <th>614</th>\n",
       "      <td>13550</td>\n",
       "      <td>Cafe Palnad</td>\n",
       "    </tr>\n",
       "    <tr>\n",
       "      <th>706</th>\n",
       "      <td>37768</td>\n",
       "      <td>Cafe @ Elanza</td>\n",
       "    </tr>\n",
       "  </tbody>\n",
       "</table>\n",
       "</div>"
      ],
      "text/plain": [
       "     rest_id        rest_name\n",
       "9      29058          Cafe 58\n",
       "98     48351    Cafe @ Elanza\n",
       "103    43061      Caf Mor'ish\n",
       "132    17608  Cafe Coffee Day\n",
       "159    34860        Cafe 221B\n",
       "201    15457       Cafe Iftar\n",
       "240    49891       Cafe Jezve\n",
       "304    10992   Caffe Pascucci\n",
       "334    32221            Caf S\n",
       "338    33536       Cafe Remix\n",
       "347    12336      Cafe Imroze\n",
       "365    45518  Cafe Coffee Day\n",
       "379    45542      Cafe Oleiva\n",
       "614    13550      Cafe Palnad\n",
       "706    37768    Cafe @ Elanza"
      ]
     },
     "execution_count": 25,
     "metadata": {},
     "output_type": "execute_result"
    }
   ],
   "source": [
    "df[df['rest_name'].str.startswith(\"Caf\")].loc[:, ['rest_id','rest_name']].head(15)"
   ]
  },
  {
   "cell_type": "markdown",
   "metadata": {},
   "source": [
    "*****************************************************************************************************************************************************\n",
    "\n",
    "\n",
    "*****************************************************************************************************************************************************"
   ]
  },
  {
   "cell_type": "markdown",
   "metadata": {},
   "source": [
    "## We found that the Cafe spelling was wrong for few restaurant names"
   ]
  },
  {
   "cell_type": "code",
   "execution_count": 26,
   "metadata": {},
   "outputs": [
    {
     "name": "stderr",
     "output_type": "stream",
     "text": [
      "C:\\Users\\Dell\\AppData\\Local\\Temp\\ipykernel_12872\\3958553127.py:1: FutureWarning: The default value of regex will change from True to False in a future version.\n",
      "  df['rest_name'] = df['rest_name'].str.replace(r'\\bCaf\\b', 'Cafe')\n"
     ]
    }
   ],
   "source": [
    "\n",
    "df['rest_name'] = df['rest_name'].str.replace(r'\\bCaf\\b', 'Cafe')"
   ]
  },
  {
   "cell_type": "markdown",
   "metadata": {},
   "source": [
    "*****************************************************************************************************************************************************\n",
    "\n",
    "\n",
    "*****************************************************************************************************************************************************"
   ]
  },
  {
   "cell_type": "markdown",
   "metadata": {},
   "source": [
    "## Using above code we replaced the CAF as CAFE"
   ]
  },
  {
   "cell_type": "code",
   "execution_count": 27,
   "metadata": {},
   "outputs": [
    {
     "data": {
      "text/html": [
       "<div>\n",
       "<style scoped>\n",
       "    .dataframe tbody tr th:only-of-type {\n",
       "        vertical-align: middle;\n",
       "    }\n",
       "\n",
       "    .dataframe tbody tr th {\n",
       "        vertical-align: top;\n",
       "    }\n",
       "\n",
       "    .dataframe thead th {\n",
       "        text-align: right;\n",
       "    }\n",
       "</style>\n",
       "<table border=\"1\" class=\"dataframe\">\n",
       "  <thead>\n",
       "    <tr style=\"text-align: right;\">\n",
       "      <th></th>\n",
       "      <th>rest_id</th>\n",
       "      <th>rest_name</th>\n",
       "    </tr>\n",
       "  </thead>\n",
       "  <tbody>\n",
       "    <tr>\n",
       "      <th>9</th>\n",
       "      <td>29058</td>\n",
       "      <td>Cafe 58</td>\n",
       "    </tr>\n",
       "    <tr>\n",
       "      <th>98</th>\n",
       "      <td>48351</td>\n",
       "      <td>Cafe @ Elanza</td>\n",
       "    </tr>\n",
       "    <tr>\n",
       "      <th>103</th>\n",
       "      <td>43061</td>\n",
       "      <td>Cafe Mor'ish</td>\n",
       "    </tr>\n",
       "    <tr>\n",
       "      <th>132</th>\n",
       "      <td>17608</td>\n",
       "      <td>Cafe Coffee Day</td>\n",
       "    </tr>\n",
       "    <tr>\n",
       "      <th>159</th>\n",
       "      <td>34860</td>\n",
       "      <td>Cafe 221B</td>\n",
       "    </tr>\n",
       "    <tr>\n",
       "      <th>201</th>\n",
       "      <td>15457</td>\n",
       "      <td>Cafe Iftar</td>\n",
       "    </tr>\n",
       "    <tr>\n",
       "      <th>240</th>\n",
       "      <td>49891</td>\n",
       "      <td>Cafe Jezve</td>\n",
       "    </tr>\n",
       "    <tr>\n",
       "      <th>304</th>\n",
       "      <td>10992</td>\n",
       "      <td>Caffe Pascucci</td>\n",
       "    </tr>\n",
       "    <tr>\n",
       "      <th>334</th>\n",
       "      <td>32221</td>\n",
       "      <td>Cafe S</td>\n",
       "    </tr>\n",
       "    <tr>\n",
       "      <th>338</th>\n",
       "      <td>33536</td>\n",
       "      <td>Cafe Remix</td>\n",
       "    </tr>\n",
       "    <tr>\n",
       "      <th>347</th>\n",
       "      <td>12336</td>\n",
       "      <td>Cafe Imroze</td>\n",
       "    </tr>\n",
       "    <tr>\n",
       "      <th>365</th>\n",
       "      <td>45518</td>\n",
       "      <td>Cafe Coffee Day</td>\n",
       "    </tr>\n",
       "    <tr>\n",
       "      <th>379</th>\n",
       "      <td>45542</td>\n",
       "      <td>Cafe Oleiva</td>\n",
       "    </tr>\n",
       "    <tr>\n",
       "      <th>614</th>\n",
       "      <td>13550</td>\n",
       "      <td>Cafe Palnad</td>\n",
       "    </tr>\n",
       "    <tr>\n",
       "      <th>706</th>\n",
       "      <td>37768</td>\n",
       "      <td>Cafe @ Elanza</td>\n",
       "    </tr>\n",
       "  </tbody>\n",
       "</table>\n",
       "</div>"
      ],
      "text/plain": [
       "     rest_id        rest_name\n",
       "9      29058          Cafe 58\n",
       "98     48351    Cafe @ Elanza\n",
       "103    43061     Cafe Mor'ish\n",
       "132    17608  Cafe Coffee Day\n",
       "159    34860        Cafe 221B\n",
       "201    15457       Cafe Iftar\n",
       "240    49891       Cafe Jezve\n",
       "304    10992   Caffe Pascucci\n",
       "334    32221           Cafe S\n",
       "338    33536       Cafe Remix\n",
       "347    12336      Cafe Imroze\n",
       "365    45518  Cafe Coffee Day\n",
       "379    45542      Cafe Oleiva\n",
       "614    13550      Cafe Palnad\n",
       "706    37768    Cafe @ Elanza"
      ]
     },
     "execution_count": 27,
     "metadata": {},
     "output_type": "execute_result"
    }
   ],
   "source": [
    "df[df['rest_name'].str.startswith(\"Caf\")].loc[:, ['rest_id','rest_name']].head(15)"
   ]
  },
  {
   "cell_type": "markdown",
   "metadata": {},
   "source": []
  },
  {
   "cell_type": "markdown",
   "metadata": {},
   "source": [
    "*****************************************************************************************************************************************************\n",
    "\n",
    "\n",
    "*****************************************************************************************************************************************************"
   ]
  },
  {
   "cell_type": "markdown",
   "metadata": {},
   "source": []
  },
  {
   "cell_type": "markdown",
   "metadata": {},
   "source": [
    "## Checking for Other missing values in non numeric columns"
   ]
  },
  {
   "cell_type": "code",
   "execution_count": 28,
   "metadata": {},
   "outputs": [
    {
     "data": {
      "text/html": [
       "<div>\n",
       "<style scoped>\n",
       "    .dataframe tbody tr th:only-of-type {\n",
       "        vertical-align: middle;\n",
       "    }\n",
       "\n",
       "    .dataframe tbody tr th {\n",
       "        vertical-align: top;\n",
       "    }\n",
       "\n",
       "    .dataframe thead th {\n",
       "        text-align: right;\n",
       "    }\n",
       "</style>\n",
       "<table border=\"1\" class=\"dataframe\">\n",
       "  <thead>\n",
       "    <tr style=\"text-align: right;\">\n",
       "      <th></th>\n",
       "      <th>rest_id</th>\n",
       "      <th>url</th>\n",
       "      <th>address</th>\n",
       "      <th>rest_name</th>\n",
       "      <th>online_order</th>\n",
       "      <th>Table Booking Availability</th>\n",
       "      <th>Ratings out of 5</th>\n",
       "      <th>Voters Count</th>\n",
       "      <th>Phone No</th>\n",
       "      <th>location</th>\n",
       "      <th>Rest_type</th>\n",
       "      <th>Dish Varieties</th>\n",
       "      <th>Cuisines</th>\n",
       "      <th>Average Cost for two</th>\n",
       "      <th>Detail Reviews</th>\n",
       "      <th>Menu item</th>\n",
       "      <th>Listed type in ZOMOTO</th>\n",
       "      <th>Listed City in ZOMOTO</th>\n",
       "    </tr>\n",
       "  </thead>\n",
       "  <tbody>\n",
       "    <tr>\n",
       "      <th>3254</th>\n",
       "      <td>32131</td>\n",
       "      <td>https://www.zomato.com/bangalore/abs-absolute-...</td>\n",
       "      <td>Koramangala 8th Block, Bangalore</td>\n",
       "      <td>AB's - Absolute Barbecues</td>\n",
       "      <td>No</td>\n",
       "      <td>No</td>\n",
       "      <td>NaN</td>\n",
       "      <td>0</td>\n",
       "      <td>NaN</td>\n",
       "      <td>NaN</td>\n",
       "      <td>NaN</td>\n",
       "      <td>NaN</td>\n",
       "      <td>NaN</td>\n",
       "      <td>NaN</td>\n",
       "      <td>NaN</td>\n",
       "      <td>NaN</td>\n",
       "      <td>Buffet</td>\n",
       "      <td>Koramangala 6th Block</td>\n",
       "    </tr>\n",
       "    <tr>\n",
       "      <th>3763</th>\n",
       "      <td>47134</td>\n",
       "      <td>https://www.zomato.com/bangalore/the-cinema-vi...</td>\n",
       "      <td>9, Magadi Main Road, Cholourpalya, Vijay Nagar</td>\n",
       "      <td>The Cinema</td>\n",
       "      <td>No</td>\n",
       "      <td>No</td>\n",
       "      <td>NaN</td>\n",
       "      <td>0</td>\n",
       "      <td>NaN</td>\n",
       "      <td>NaN</td>\n",
       "      <td>NaN</td>\n",
       "      <td>NaN</td>\n",
       "      <td>NaN</td>\n",
       "      <td>NaN</td>\n",
       "      <td>NaN</td>\n",
       "      <td>NaN</td>\n",
       "      <td>Dine-out</td>\n",
       "      <td>Rajajinagar</td>\n",
       "    </tr>\n",
       "    <tr>\n",
       "      <th>9160</th>\n",
       "      <td>26432</td>\n",
       "      <td>https://www.zomato.com/bangalore/new-taj-birya...</td>\n",
       "      <td>IB Road, Lorry Stand, Kushaal Nagar, Ward 10, ...</td>\n",
       "      <td>New Taj Biryani Centre</td>\n",
       "      <td>No</td>\n",
       "      <td>No</td>\n",
       "      <td>NaN</td>\n",
       "      <td>0</td>\n",
       "      <td>NaN</td>\n",
       "      <td>NaN</td>\n",
       "      <td>NaN</td>\n",
       "      <td>NaN</td>\n",
       "      <td>NaN</td>\n",
       "      <td>NaN</td>\n",
       "      <td>NaN</td>\n",
       "      <td>NaN</td>\n",
       "      <td>Dine-out</td>\n",
       "      <td>Kammanahalli</td>\n",
       "    </tr>\n",
       "  </tbody>\n",
       "</table>\n",
       "</div>"
      ],
      "text/plain": [
       "      rest_id                                                url  \\\n",
       "3254    32131  https://www.zomato.com/bangalore/abs-absolute-...   \n",
       "3763    47134  https://www.zomato.com/bangalore/the-cinema-vi...   \n",
       "9160    26432  https://www.zomato.com/bangalore/new-taj-birya...   \n",
       "\n",
       "                                                address  \\\n",
       "3254                   Koramangala 8th Block, Bangalore   \n",
       "3763     9, Magadi Main Road, Cholourpalya, Vijay Nagar   \n",
       "9160  IB Road, Lorry Stand, Kushaal Nagar, Ward 10, ...   \n",
       "\n",
       "                      rest_name online_order Table Booking Availability  \\\n",
       "3254  AB's - Absolute Barbecues           No                         No   \n",
       "3763                 The Cinema           No                         No   \n",
       "9160     New Taj Biryani Centre           No                         No   \n",
       "\n",
       "      Ratings out of 5  Voters Count Phone No location Rest_type  \\\n",
       "3254               NaN             0      NaN      NaN       NaN   \n",
       "3763               NaN             0      NaN      NaN       NaN   \n",
       "9160               NaN             0      NaN      NaN       NaN   \n",
       "\n",
       "     Dish Varieties Cuisines  Average Cost for two Detail Reviews Menu item  \\\n",
       "3254            NaN      NaN                   NaN            NaN       NaN   \n",
       "3763            NaN      NaN                   NaN            NaN       NaN   \n",
       "9160            NaN      NaN                   NaN            NaN       NaN   \n",
       "\n",
       "     Listed type in ZOMOTO  Listed City in ZOMOTO  \n",
       "3254                Buffet  Koramangala 6th Block  \n",
       "3763              Dine-out            Rajajinagar  \n",
       "9160              Dine-out           Kammanahalli  "
      ]
     },
     "execution_count": 28,
     "metadata": {},
     "output_type": "execute_result"
    }
   ],
   "source": [
    "df[df['location'].isnull()]"
   ]
  },
  {
   "cell_type": "markdown",
   "metadata": {},
   "source": []
  },
  {
   "cell_type": "markdown",
   "metadata": {},
   "source": [
    "*****************************************************************************************************************************************************\n",
    "\n",
    "\n",
    "*****************************************************************************************************************************************************"
   ]
  },
  {
   "cell_type": "markdown",
   "metadata": {},
   "source": []
  },
  {
   "cell_type": "markdown",
   "metadata": {},
   "source": [
    "## We found out that there were some missing values in column \"location\", we replaced it with city names listed in zomoto"
   ]
  },
  {
   "cell_type": "code",
   "execution_count": 29,
   "metadata": {},
   "outputs": [],
   "source": [
    "missing_ids = df[df['location'].isnull()].loc[:, \"rest_id\"]\n",
    "missing_ids = missing_ids.tolist()\n",
    "\n",
    "for rest_id in missing_ids:\n",
    "    df.loc[df['rest_id'] == rest_id, 'location'] = df.loc[df['rest_id'] == rest_id, 'Listed City in ZOMOTO']"
   ]
  },
  {
   "cell_type": "code",
   "execution_count": 30,
   "metadata": {},
   "outputs": [
    {
     "data": {
      "text/html": [
       "<div>\n",
       "<style scoped>\n",
       "    .dataframe tbody tr th:only-of-type {\n",
       "        vertical-align: middle;\n",
       "    }\n",
       "\n",
       "    .dataframe tbody tr th {\n",
       "        vertical-align: top;\n",
       "    }\n",
       "\n",
       "    .dataframe thead th {\n",
       "        text-align: right;\n",
       "    }\n",
       "</style>\n",
       "<table border=\"1\" class=\"dataframe\">\n",
       "  <thead>\n",
       "    <tr style=\"text-align: right;\">\n",
       "      <th></th>\n",
       "      <th>rest_id</th>\n",
       "      <th>url</th>\n",
       "      <th>address</th>\n",
       "      <th>rest_name</th>\n",
       "      <th>online_order</th>\n",
       "      <th>Table Booking Availability</th>\n",
       "      <th>Ratings out of 5</th>\n",
       "      <th>Voters Count</th>\n",
       "      <th>Phone No</th>\n",
       "      <th>location</th>\n",
       "      <th>Rest_type</th>\n",
       "      <th>Dish Varieties</th>\n",
       "      <th>Cuisines</th>\n",
       "      <th>Average Cost for two</th>\n",
       "      <th>Detail Reviews</th>\n",
       "      <th>Menu item</th>\n",
       "      <th>Listed type in ZOMOTO</th>\n",
       "      <th>Listed City in ZOMOTO</th>\n",
       "    </tr>\n",
       "  </thead>\n",
       "  <tbody>\n",
       "    <tr>\n",
       "      <th>3254</th>\n",
       "      <td>32131</td>\n",
       "      <td>https://www.zomato.com/bangalore/abs-absolute-...</td>\n",
       "      <td>Koramangala 8th Block, Bangalore</td>\n",
       "      <td>AB's - Absolute Barbecues</td>\n",
       "      <td>No</td>\n",
       "      <td>No</td>\n",
       "      <td>NaN</td>\n",
       "      <td>0</td>\n",
       "      <td>NaN</td>\n",
       "      <td>Koramangala 6th Block</td>\n",
       "      <td>NaN</td>\n",
       "      <td>NaN</td>\n",
       "      <td>NaN</td>\n",
       "      <td>NaN</td>\n",
       "      <td>NaN</td>\n",
       "      <td>NaN</td>\n",
       "      <td>Buffet</td>\n",
       "      <td>Koramangala 6th Block</td>\n",
       "    </tr>\n",
       "    <tr>\n",
       "      <th>3763</th>\n",
       "      <td>47134</td>\n",
       "      <td>https://www.zomato.com/bangalore/the-cinema-vi...</td>\n",
       "      <td>9, Magadi Main Road, Cholourpalya, Vijay Nagar</td>\n",
       "      <td>The Cinema</td>\n",
       "      <td>No</td>\n",
       "      <td>No</td>\n",
       "      <td>NaN</td>\n",
       "      <td>0</td>\n",
       "      <td>NaN</td>\n",
       "      <td>Rajajinagar</td>\n",
       "      <td>NaN</td>\n",
       "      <td>NaN</td>\n",
       "      <td>NaN</td>\n",
       "      <td>NaN</td>\n",
       "      <td>NaN</td>\n",
       "      <td>NaN</td>\n",
       "      <td>Dine-out</td>\n",
       "      <td>Rajajinagar</td>\n",
       "    </tr>\n",
       "    <tr>\n",
       "      <th>9160</th>\n",
       "      <td>26432</td>\n",
       "      <td>https://www.zomato.com/bangalore/new-taj-birya...</td>\n",
       "      <td>IB Road, Lorry Stand, Kushaal Nagar, Ward 10, ...</td>\n",
       "      <td>New Taj Biryani Centre</td>\n",
       "      <td>No</td>\n",
       "      <td>No</td>\n",
       "      <td>NaN</td>\n",
       "      <td>0</td>\n",
       "      <td>NaN</td>\n",
       "      <td>Kammanahalli</td>\n",
       "      <td>NaN</td>\n",
       "      <td>NaN</td>\n",
       "      <td>NaN</td>\n",
       "      <td>NaN</td>\n",
       "      <td>NaN</td>\n",
       "      <td>NaN</td>\n",
       "      <td>Dine-out</td>\n",
       "      <td>Kammanahalli</td>\n",
       "    </tr>\n",
       "  </tbody>\n",
       "</table>\n",
       "</div>"
      ],
      "text/plain": [
       "      rest_id                                                url  \\\n",
       "3254    32131  https://www.zomato.com/bangalore/abs-absolute-...   \n",
       "3763    47134  https://www.zomato.com/bangalore/the-cinema-vi...   \n",
       "9160    26432  https://www.zomato.com/bangalore/new-taj-birya...   \n",
       "\n",
       "                                                address  \\\n",
       "3254                   Koramangala 8th Block, Bangalore   \n",
       "3763     9, Magadi Main Road, Cholourpalya, Vijay Nagar   \n",
       "9160  IB Road, Lorry Stand, Kushaal Nagar, Ward 10, ...   \n",
       "\n",
       "                      rest_name online_order Table Booking Availability  \\\n",
       "3254  AB's - Absolute Barbecues           No                         No   \n",
       "3763                 The Cinema           No                         No   \n",
       "9160     New Taj Biryani Centre           No                         No   \n",
       "\n",
       "      Ratings out of 5  Voters Count Phone No               location  \\\n",
       "3254               NaN             0      NaN  Koramangala 6th Block   \n",
       "3763               NaN             0      NaN            Rajajinagar   \n",
       "9160               NaN             0      NaN           Kammanahalli   \n",
       "\n",
       "     Rest_type Dish Varieties Cuisines  Average Cost for two Detail Reviews  \\\n",
       "3254       NaN            NaN      NaN                   NaN            NaN   \n",
       "3763       NaN            NaN      NaN                   NaN            NaN   \n",
       "9160       NaN            NaN      NaN                   NaN            NaN   \n",
       "\n",
       "     Menu item Listed type in ZOMOTO  Listed City in ZOMOTO  \n",
       "3254       NaN                Buffet  Koramangala 6th Block  \n",
       "3763       NaN              Dine-out            Rajajinagar  \n",
       "9160       NaN              Dine-out           Kammanahalli  "
      ]
     },
     "execution_count": 30,
     "metadata": {},
     "output_type": "execute_result"
    }
   ],
   "source": [
    "df[df['rest_id'].isin(missing_ids)]"
   ]
  },
  {
   "cell_type": "markdown",
   "metadata": {},
   "source": []
  },
  {
   "cell_type": "markdown",
   "metadata": {},
   "source": [
    "*****************************************************************************************************************************************************\n",
    "\n",
    "\n",
    "*****************************************************************************************************************************************************"
   ]
  },
  {
   "cell_type": "markdown",
   "metadata": {},
   "source": [
    "## Checking Null Values in Address Column"
   ]
  },
  {
   "cell_type": "code",
   "execution_count": 31,
   "metadata": {},
   "outputs": [
    {
     "data": {
      "text/plain": [
       "0"
      ]
     },
     "execution_count": 31,
     "metadata": {},
     "output_type": "execute_result"
    }
   ],
   "source": [
    "df['address'].isnull().sum()"
   ]
  },
  {
   "cell_type": "markdown",
   "metadata": {},
   "source": [
    "## Checking Null Values in 'Ratings out of 5' Column"
   ]
  },
  {
   "cell_type": "code",
   "execution_count": 32,
   "metadata": {},
   "outputs": [
    {
     "data": {
      "text/plain": [
       "1723"
      ]
     },
     "execution_count": 32,
     "metadata": {},
     "output_type": "execute_result"
    }
   ],
   "source": [
    "df['Ratings out of 5'].isnull().sum()\n"
   ]
  },
  {
   "cell_type": "markdown",
   "metadata": {},
   "source": [
    "## Checking Null Values in 'Average Cost for two' Column"
   ]
  },
  {
   "cell_type": "code",
   "execution_count": 33,
   "metadata": {},
   "outputs": [
    {
     "data": {
      "text/plain": [
       "1275"
      ]
     },
     "execution_count": 33,
     "metadata": {},
     "output_type": "execute_result"
    }
   ],
   "source": [
    "df['Average Cost for two'].isnull().sum()"
   ]
  },
  {
   "cell_type": "markdown",
   "metadata": {},
   "source": [
    "## Checking Null Values in 'Voters Count' Column"
   ]
  },
  {
   "cell_type": "code",
   "execution_count": 34,
   "metadata": {},
   "outputs": [
    {
     "data": {
      "text/plain": [
       "0"
      ]
     },
     "execution_count": 34,
     "metadata": {},
     "output_type": "execute_result"
    }
   ],
   "source": [
    "df['Voters Count'].isnull().sum()"
   ]
  },
  {
   "cell_type": "markdown",
   "metadata": {},
   "source": []
  },
  {
   "cell_type": "markdown",
   "metadata": {},
   "source": [
    "# Filling the missing values for 'Ratings out of 5' using logic"
   ]
  },
  {
   "cell_type": "code",
   "execution_count": 35,
   "metadata": {},
   "outputs": [],
   "source": [
    "mean_values_ratings = df.groupby('rest_name')['Ratings out of 5'].transform('mean')\n",
    "\n",
    "df['Ratings out of 5'].fillna(mean_values_ratings, inplace=True)"
   ]
  },
  {
   "cell_type": "markdown",
   "metadata": {},
   "source": [
    "### Replacing the remaining null values for \"Ratings out of 5\" with median"
   ]
  },
  {
   "cell_type": "code",
   "execution_count": 36,
   "metadata": {},
   "outputs": [],
   "source": [
    "df['Ratings out of 5'].fillna(df['Ratings out of 5'].median(), inplace=True)"
   ]
  },
  {
   "cell_type": "code",
   "execution_count": 37,
   "metadata": {},
   "outputs": [
    {
     "data": {
      "text/plain": [
       "0"
      ]
     },
     "execution_count": 37,
     "metadata": {},
     "output_type": "execute_result"
    }
   ],
   "source": [
    "df['Ratings out of 5'].isnull().sum()"
   ]
  },
  {
   "cell_type": "markdown",
   "metadata": {},
   "source": [
    "*****************************************************************************************************************************************************\n",
    "\n",
    "\n",
    "*****************************************************************************************************************************************************"
   ]
  },
  {
   "cell_type": "markdown",
   "metadata": {},
   "source": [
    "# Filling the missing values for 'Average cost for 2' using logic"
   ]
  },
  {
   "cell_type": "markdown",
   "metadata": {},
   "source": []
  },
  {
   "cell_type": "code",
   "execution_count": 38,
   "metadata": {},
   "outputs": [],
   "source": [
    "mean_values_ratings = df.groupby('rest_name')['Average Cost for two'].transform('mean')\n",
    "\n",
    "df['Average Cost for two'].fillna(mean_values_ratings, inplace=True)"
   ]
  },
  {
   "cell_type": "code",
   "execution_count": 39,
   "metadata": {},
   "outputs": [],
   "source": [
    "df['Average Cost for two'].fillna(df['Average Cost for two'].median(), inplace=True)"
   ]
  },
  {
   "cell_type": "code",
   "execution_count": 40,
   "metadata": {},
   "outputs": [
    {
     "data": {
      "text/plain": [
       "0"
      ]
     },
     "execution_count": 40,
     "metadata": {},
     "output_type": "execute_result"
    }
   ],
   "source": [
    "df['Average Cost for two'].isnull().sum()"
   ]
  },
  {
   "cell_type": "markdown",
   "metadata": {},
   "source": [
    "*****************************************************************************************************************************************************\n",
    "\n",
    "\n",
    "*****************************************************************************************************************************************************"
   ]
  },
  {
   "cell_type": "markdown",
   "metadata": {},
   "source": [
    "## Checking null values in below columns"
   ]
  },
  {
   "cell_type": "code",
   "execution_count": 41,
   "metadata": {},
   "outputs": [
    {
     "data": {
      "text/plain": [
       "0"
      ]
     },
     "execution_count": 41,
     "metadata": {},
     "output_type": "execute_result"
    }
   ],
   "source": [
    "df['Table Booking Availability'].isnull().sum()"
   ]
  },
  {
   "cell_type": "code",
   "execution_count": 42,
   "metadata": {},
   "outputs": [
    {
     "data": {
      "text/plain": [
       "0"
      ]
     },
     "execution_count": 42,
     "metadata": {},
     "output_type": "execute_result"
    }
   ],
   "source": [
    "df['online_order'].isnull().sum()"
   ]
  },
  {
   "cell_type": "markdown",
   "metadata": {},
   "source": [
    "*****************************************************************************************************************************************************\n",
    "\n",
    "\n",
    "*****************************************************************************************************************************************************"
   ]
  },
  {
   "cell_type": "markdown",
   "metadata": {},
   "source": [
    "## Checking null values in \"Rest_type\" column"
   ]
  },
  {
   "cell_type": "code",
   "execution_count": 43,
   "metadata": {},
   "outputs": [
    {
     "data": {
      "text/plain": [
       "44"
      ]
     },
     "execution_count": 43,
     "metadata": {},
     "output_type": "execute_result"
    }
   ],
   "source": [
    "df['Rest_type'].isnull().sum()"
   ]
  },
  {
   "cell_type": "markdown",
   "metadata": {},
   "source": [
    "### As we see that rest type has missing values, replacing the missing values in 'rest_type' with last valid value of \"rest_type\" having same \"rest_name\""
   ]
  },
  {
   "cell_type": "code",
   "execution_count": 44,
   "metadata": {},
   "outputs": [],
   "source": [
    "df['Rest_type'] = df.groupby('rest_name')['Rest_type'].fillna(method='ffill')"
   ]
  },
  {
   "cell_type": "code",
   "execution_count": 45,
   "metadata": {},
   "outputs": [
    {
     "data": {
      "text/plain": [
       "35"
      ]
     },
     "execution_count": 45,
     "metadata": {},
     "output_type": "execute_result"
    }
   ],
   "source": [
    "df['Rest_type'].isnull().sum()"
   ]
  },
  {
   "cell_type": "markdown",
   "metadata": {},
   "source": [
    "### We replaced 9 missing values and rest values cannot be replaced as we cannot enter any missing value for rest_type on our own "
   ]
  },
  {
   "cell_type": "markdown",
   "metadata": {},
   "source": [
    "*****************************************************************************************************************************************************\n",
    "\n",
    "\n",
    "*****************************************************************************************************************************************************"
   ]
  },
  {
   "cell_type": "markdown",
   "metadata": {},
   "source": [
    "*****************************************************************************************************************************************************\n",
    "\n",
    "\n",
    "*****************************************************************************************************************************************************"
   ]
  },
  {
   "cell_type": "markdown",
   "metadata": {},
   "source": [
    "# Questions : "
   ]
  },
  {
   "cell_type": "markdown",
   "metadata": {},
   "source": [
    "## Q2. Which are the top restaurant chains based on the distribution(frequency) in Bangaluru?"
   ]
  },
  {
   "cell_type": "code",
   "execution_count": 46,
   "metadata": {},
   "outputs": [],
   "source": [
    "df_Q2 = df.groupby(['rest_name']).agg({\"Voters Count\" : \"sum\", 'Ratings out of 5' : \"mean\"})\n",
    "\n",
    "\n",
    "## Adding new column in dfQ2 showing value counts of total hotel chain of respective brand\n",
    "df_Q2[\"no of restaurants\"] = df[\"rest_name\"].value_counts()\n",
    "\n"
   ]
  },
  {
   "cell_type": "markdown",
   "metadata": {},
   "source": [
    "### Sorting on basis of Voters Count...... as high number voters signify higher number of public response and also higher public preference"
   ]
  },
  {
   "cell_type": "code",
   "execution_count": 47,
   "metadata": {},
   "outputs": [
    {
     "data": {
      "text/html": [
       "<div>\n",
       "<style scoped>\n",
       "    .dataframe tbody tr th:only-of-type {\n",
       "        vertical-align: middle;\n",
       "    }\n",
       "\n",
       "    .dataframe tbody tr th {\n",
       "        vertical-align: top;\n",
       "    }\n",
       "\n",
       "    .dataframe thead th {\n",
       "        text-align: right;\n",
       "    }\n",
       "</style>\n",
       "<table border=\"1\" class=\"dataframe\">\n",
       "  <thead>\n",
       "    <tr style=\"text-align: right;\">\n",
       "      <th></th>\n",
       "      <th>Voters Count</th>\n",
       "      <th>Ratings out of 5</th>\n",
       "      <th>no of restaurants</th>\n",
       "    </tr>\n",
       "    <tr>\n",
       "      <th>rest_name</th>\n",
       "      <th></th>\n",
       "      <th></th>\n",
       "      <th></th>\n",
       "    </tr>\n",
       "  </thead>\n",
       "  <tbody>\n",
       "    <tr>\n",
       "      <th>Onesta</th>\n",
       "      <td>64814</td>\n",
       "      <td>4.426667</td>\n",
       "      <td>15</td>\n",
       "    </tr>\n",
       "    <tr>\n",
       "      <th>Truffles</th>\n",
       "      <td>59814</td>\n",
       "      <td>4.580000</td>\n",
       "      <td>10</td>\n",
       "    </tr>\n",
       "    <tr>\n",
       "      <th>Hammered</th>\n",
       "      <td>34320</td>\n",
       "      <td>4.612500</td>\n",
       "      <td>10</td>\n",
       "    </tr>\n",
       "    <tr>\n",
       "      <th>Arbor Brewing Company</th>\n",
       "      <td>33583</td>\n",
       "      <td>4.500000</td>\n",
       "      <td>4</td>\n",
       "    </tr>\n",
       "    <tr>\n",
       "      <th>Prost Brew Pub</th>\n",
       "      <td>31435</td>\n",
       "      <td>4.500000</td>\n",
       "      <td>4</td>\n",
       "    </tr>\n",
       "    <tr>\n",
       "      <th>The Black Pearl</th>\n",
       "      <td>27916</td>\n",
       "      <td>4.733333</td>\n",
       "      <td>3</td>\n",
       "    </tr>\n",
       "    <tr>\n",
       "      <th>Empire Restaurant</th>\n",
       "      <td>25562</td>\n",
       "      <td>4.066667</td>\n",
       "      <td>9</td>\n",
       "    </tr>\n",
       "    <tr>\n",
       "      <th>The Biere Club</th>\n",
       "      <td>24456</td>\n",
       "      <td>4.300000</td>\n",
       "      <td>7</td>\n",
       "    </tr>\n",
       "    <tr>\n",
       "      <th>Barbeque Nation</th>\n",
       "      <td>22965</td>\n",
       "      <td>4.666667</td>\n",
       "      <td>6</td>\n",
       "    </tr>\n",
       "    <tr>\n",
       "      <th>House Of Commons</th>\n",
       "      <td>22189</td>\n",
       "      <td>4.740000</td>\n",
       "      <td>5</td>\n",
       "    </tr>\n",
       "  </tbody>\n",
       "</table>\n",
       "</div>"
      ],
      "text/plain": [
       "                       Voters Count  Ratings out of 5  no of restaurants\n",
       "rest_name                                                               \n",
       "Onesta                        64814          4.426667                 15\n",
       "Truffles                      59814          4.580000                 10\n",
       "Hammered                      34320          4.612500                 10\n",
       "Arbor Brewing Company         33583          4.500000                  4\n",
       "Prost Brew Pub                31435          4.500000                  4\n",
       "The Black Pearl               27916          4.733333                  3\n",
       "Empire Restaurant             25562          4.066667                  9\n",
       "The Biere Club                24456          4.300000                  7\n",
       "Barbeque Nation               22965          4.666667                  6\n",
       "House Of Commons              22189          4.740000                  5"
      ]
     },
     "execution_count": 47,
     "metadata": {},
     "output_type": "execute_result"
    }
   ],
   "source": [
    "df_Q2.sort_values(by=[\"Voters Count\", 'Ratings out of 5'], ascending=False).head(10)"
   ]
  },
  {
   "cell_type": "markdown",
   "metadata": {},
   "source": [
    "### Top 10 Restaurants based on the distribution(frequency)"
   ]
  },
  {
   "cell_type": "code",
   "execution_count": 48,
   "metadata": {},
   "outputs": [
    {
     "data": {
      "text/html": [
       "<div>\n",
       "<style scoped>\n",
       "    .dataframe tbody tr th:only-of-type {\n",
       "        vertical-align: middle;\n",
       "    }\n",
       "\n",
       "    .dataframe tbody tr th {\n",
       "        vertical-align: top;\n",
       "    }\n",
       "\n",
       "    .dataframe thead th {\n",
       "        text-align: right;\n",
       "    }\n",
       "</style>\n",
       "<table border=\"1\" class=\"dataframe\">\n",
       "  <thead>\n",
       "    <tr style=\"text-align: right;\">\n",
       "      <th></th>\n",
       "      <th>Voters Count</th>\n",
       "      <th>Ratings out of 5</th>\n",
       "      <th>no of restaurants</th>\n",
       "    </tr>\n",
       "    <tr>\n",
       "      <th>rest_name</th>\n",
       "      <th></th>\n",
       "      <th></th>\n",
       "      <th></th>\n",
       "    </tr>\n",
       "  </thead>\n",
       "  <tbody>\n",
       "    <tr>\n",
       "      <th>Cafe Coffee Day</th>\n",
       "      <td>676</td>\n",
       "      <td>3.364286</td>\n",
       "      <td>17</td>\n",
       "    </tr>\n",
       "    <tr>\n",
       "      <th>Baskin Robbins</th>\n",
       "      <td>728</td>\n",
       "      <td>3.581250</td>\n",
       "      <td>16</td>\n",
       "    </tr>\n",
       "    <tr>\n",
       "      <th>McDonald's</th>\n",
       "      <td>3994</td>\n",
       "      <td>3.556250</td>\n",
       "      <td>16</td>\n",
       "    </tr>\n",
       "    <tr>\n",
       "      <th>Onesta</th>\n",
       "      <td>64814</td>\n",
       "      <td>4.426667</td>\n",
       "      <td>15</td>\n",
       "    </tr>\n",
       "    <tr>\n",
       "      <th>Keventers</th>\n",
       "      <td>1488</td>\n",
       "      <td>3.706667</td>\n",
       "      <td>15</td>\n",
       "    </tr>\n",
       "    <tr>\n",
       "      <th>The Chocolate Heaven</th>\n",
       "      <td>1038</td>\n",
       "      <td>3.580000</td>\n",
       "      <td>14</td>\n",
       "    </tr>\n",
       "    <tr>\n",
       "      <th>KFC</th>\n",
       "      <td>6153</td>\n",
       "      <td>3.492857</td>\n",
       "      <td>14</td>\n",
       "    </tr>\n",
       "    <tr>\n",
       "      <th>Petoo</th>\n",
       "      <td>881</td>\n",
       "      <td>3.846154</td>\n",
       "      <td>14</td>\n",
       "    </tr>\n",
       "    <tr>\n",
       "      <th>Sweet Truth</th>\n",
       "      <td>489</td>\n",
       "      <td>3.984615</td>\n",
       "      <td>13</td>\n",
       "    </tr>\n",
       "    <tr>\n",
       "      <th>Corner House Ice Cream</th>\n",
       "      <td>11842</td>\n",
       "      <td>4.507692</td>\n",
       "      <td>13</td>\n",
       "    </tr>\n",
       "  </tbody>\n",
       "</table>\n",
       "</div>"
      ],
      "text/plain": [
       "                        Voters Count  Ratings out of 5  no of restaurants\n",
       "rest_name                                                                \n",
       "Cafe Coffee Day                  676          3.364286                 17\n",
       "Baskin Robbins                   728          3.581250                 16\n",
       "McDonald's                      3994          3.556250                 16\n",
       "Onesta                         64814          4.426667                 15\n",
       "Keventers                       1488          3.706667                 15\n",
       "The Chocolate Heaven            1038          3.580000                 14\n",
       "KFC                             6153          3.492857                 14\n",
       "Petoo                            881          3.846154                 14\n",
       "Sweet Truth                      489          3.984615                 13\n",
       "Corner House Ice Cream         11842          4.507692                 13"
      ]
     },
     "execution_count": 48,
     "metadata": {},
     "output_type": "execute_result"
    }
   ],
   "source": [
    "df_Q2.sort_values(\"no of restaurants\", ascending=False).head(10)"
   ]
  },
  {
   "cell_type": "markdown",
   "metadata": {},
   "source": [
    "*****************************************************************************************************************************************************\n",
    "\n",
    "\n",
    "*****************************************************************************************************************************************************"
   ]
  },
  {
   "cell_type": "markdown",
   "metadata": {},
   "source": [
    "*****************************************************************************************************************************************************\n",
    "\n",
    "\n",
    "*****************************************************************************************************************************************************"
   ]
  },
  {
   "cell_type": "markdown",
   "metadata": {},
   "source": [
    "## Q3.\tHow many restaurants do not accept online orders?"
   ]
  },
  {
   "cell_type": "code",
   "execution_count": 49,
   "metadata": {},
   "outputs": [
    {
     "data": {
      "text/plain": [
       "Yes    5423\n",
       "No     3668\n",
       "Name: online_order, dtype: int64"
      ]
     },
     "execution_count": 49,
     "metadata": {},
     "output_type": "execute_result"
    }
   ],
   "source": [
    "df[\"online_order\"].value_counts()"
   ]
  },
  {
   "cell_type": "markdown",
   "metadata": {},
   "source": [
    "*****************************************************************************************************************************************************\n",
    "\n",
    "\n",
    "*****************************************************************************************************************************************************"
   ]
  },
  {
   "cell_type": "markdown",
   "metadata": {},
   "source": [
    "*****************************************************************************************************************************************************\n",
    "\n",
    "\n",
    "*****************************************************************************************************************************************************"
   ]
  },
  {
   "cell_type": "markdown",
   "metadata": {},
   "source": [
    "## Q4.\tWhat is the ratio b/w restaurants that provide and do not provide table booking?"
   ]
  },
  {
   "cell_type": "code",
   "execution_count": 50,
   "metadata": {},
   "outputs": [
    {
     "data": {
      "text/plain": [
       "No     7967\n",
       "Yes    1124\n",
       "Name: Table Booking Availability, dtype: int64"
      ]
     },
     "execution_count": 50,
     "metadata": {},
     "output_type": "execute_result"
    }
   ],
   "source": [
    "df['Table Booking Availability'].value_counts()"
   ]
  },
  {
   "cell_type": "code",
   "execution_count": 51,
   "metadata": {},
   "outputs": [
    {
     "name": "stdout",
     "output_type": "stream",
     "text": [
      "The ratio b/w restaurants that provide and do not provide table booking is : \n",
      "\n",
      "0.1411\n"
     ]
    }
   ],
   "source": [
    "print(\"The ratio b/w restaurants that provide and do not provide table booking is : \\n\")\n",
    "\n",
    "print(round((df['Table Booking Availability'].value_counts()[1]/df['Table Booking Availability'].value_counts()[0]), 4))"
   ]
  },
  {
   "cell_type": "markdown",
   "metadata": {},
   "source": [
    "*****************************************************************************************************************************************************\n",
    "\n",
    "\n",
    "*****************************************************************************************************************************************************"
   ]
  },
  {
   "cell_type": "markdown",
   "metadata": {},
   "source": [
    "*****************************************************************************************************************************************************\n",
    "\n",
    "\n",
    "*****************************************************************************************************************************************************"
   ]
  },
  {
   "cell_type": "markdown",
   "metadata": {},
   "source": [
    "## Q5. Use a boxplot on the rating column. Use User Defined Function or Lambda function or Apply function to extract the data that comes before /. Kindly exclude /."
   ]
  },
  {
   "cell_type": "code",
   "execution_count": 52,
   "metadata": {},
   "outputs": [
    {
     "data": {
      "image/png": "[encoded data removed]",
      "text/plain": [
       "<Figure size 640x480 with 1 Axes>"
      ]
     },
     "metadata": {},
     "output_type": "display_data"
    }
   ],
   "source": [
    "sns.boxplot(data=df, y='Ratings out of 5')\n",
    "plt.show()"
   ]
  },
  {
   "cell_type": "markdown",
   "metadata": {},
   "source": [
    "*****************************************************************************************************************************************************\n",
    "\n",
    "\n",
    "*****************************************************************************************************************************************************"
   ]
  },
  {
   "cell_type": "markdown",
   "metadata": {},
   "source": [
    "*****************************************************************************************************************************************************\n",
    "\n",
    "\n",
    "*****************************************************************************************************************************************************"
   ]
  },
  {
   "cell_type": "markdown",
   "metadata": {},
   "source": [
    "## Q6.\tOnline and Offline orders restaurants percentage."
   ]
  },
  {
   "cell_type": "code",
   "execution_count": 53,
   "metadata": {},
   "outputs": [
    {
     "name": "stdout",
     "output_type": "stream",
     "text": [
      "59.65% of Restaurants accept online order.\n",
      "&\n",
      "40.35% of Restaurants does not accept online order.\n"
     ]
    }
   ],
   "source": [
    "YES = df['online_order'].value_counts()[0]\n",
    "NO = df['online_order'].value_counts()[1]\n",
    "Total = df['online_order'].value_counts().sum()\n",
    "\n",
    "\n",
    "print(f\"{round(((YES / Total) * 100), 2)}% of Restaurants accept online order.\")\n",
    "print(\"&\")\n",
    "print(f\"{round(((NO / Total) * 100), 2)}% of Restaurants does not accept online order.\")"
   ]
  },
  {
   "cell_type": "markdown",
   "metadata": {},
   "source": [
    "*****************************************************************************************************************************************************\n",
    "\n",
    "\n",
    "*****************************************************************************************************************************************************"
   ]
  },
  {
   "cell_type": "markdown",
   "metadata": {},
   "source": [
    "*****************************************************************************************************************************************************\n",
    "\n",
    "\n",
    "*****************************************************************************************************************************************************"
   ]
  },
  {
   "cell_type": "markdown",
   "metadata": {},
   "source": [
    "## Q7. Plot the scatter plot using the Cost vs rating variable with respect to online order. Use apply the function Or other function to remove the “,”."
   ]
  },
  {
   "cell_type": "code",
   "execution_count": 54,
   "metadata": {},
   "outputs": [
    {
     "data": {
      "image/png": "[encoded data removed]",
      "text/plain": [
       "<Figure size 1500x600 with 1 Axes>"
      ]
     },
     "metadata": {},
     "output_type": "display_data"
    }
   ],
   "source": [
    "plt.figure(figsize=(15, 6))\n",
    "\n",
    "sns.scatterplot(y=df['Average Cost for two'], x=df['Ratings out of 5'], hue=df['online_order'])\n",
    "\n",
    "plt.title(label=\"Scatter Plot 'Cost vs Ratings'\")\n",
    "plt.show()"
   ]
  },
  {
   "cell_type": "markdown",
   "metadata": {},
   "source": [
    "*****************************************************************************************************************************************************\n",
    "\n",
    "\n",
    "*****************************************************************************************************************************************************"
   ]
  },
  {
   "cell_type": "markdown",
   "metadata": {},
   "source": [
    "*****************************************************************************************************************************************************\n",
    "\n",
    "\n",
    "*****************************************************************************************************************************************************"
   ]
  },
  {
   "cell_type": "markdown",
   "metadata": {},
   "source": [
    "## Q8.\tFind the distribution of the votes and Approx_cost using a user-defined function and for a loop."
   ]
  },
  {
   "cell_type": "code",
   "execution_count": 55,
   "metadata": {},
   "outputs": [
    {
     "name": "stdout",
     "output_type": "stream",
     "text": [
      "Distribution for 'Voters Count':\n",
      "0        1721\n",
      "1           2\n",
      "2           2\n",
      "4         195\n",
      "5         130\n",
      "         ... \n",
      "10471       1\n",
      "14654       1\n",
      "14690       1\n",
      "14694       1\n",
      "14956       1\n",
      "Name: Voters Count, Length: 1293, dtype: int64\n",
      "\n",
      "Distribution for 'Average Cost for two':\n",
      "40.000000        2\n",
      "70.000000        2\n",
      "80.000000        1\n",
      "100.000000     171\n",
      "120.000000       2\n",
      "130.000000       2\n",
      "150.000000     372\n",
      "180.000000       3\n",
      "199.000000       1\n",
      "200.000000     852\n",
      "230.000000       1\n",
      "250.000000     530\n",
      "300.000000    1328\n",
      "350.000000     302\n",
      "400.000000    2370\n",
      "437.500000       1\n",
      "450.000000     276\n",
      "469.000000       1\n",
      "500.000000     847\n",
      "550.000000     143\n",
      "600.000000     656\n",
      "650.000000     152\n",
      "700.000000     378\n",
      "750.000000     123\n",
      "758.333333       2\n",
      "800.000000     389\n",
      "850.000000      34\n",
      "900.000000     139\n",
      "950.000000      11\n",
      "Name: Average Cost for two, dtype: int64\n",
      "\n"
     ]
    }
   ],
   "source": [
    "def find_distribution(column_name):\n",
    "    distribution = df[column_name].value_counts().sort_index()\n",
    "    return distribution\n",
    "\n",
    "# List of columns to analyze\n",
    "columns_to_analyze = ['Voters Count', 'Average Cost for two']\n",
    "\n",
    "# Use a for loop to find and display the distribution for each column\n",
    "for column in columns_to_analyze:\n",
    "    print(f\"Distribution for '{column}':\")\n",
    "    distribution = find_distribution(column)\n",
    "    print(distribution)\n",
    "    print()"
   ]
  },
  {
   "cell_type": "markdown",
   "metadata": {},
   "source": [
    "*****************************************************************************************************************************************************\n",
    "\n",
    "\n",
    "*****************************************************************************************************************************************************"
   ]
  },
  {
   "cell_type": "markdown",
   "metadata": {},
   "source": [
    "*****************************************************************************************************************************************************\n",
    "\n",
    "\n",
    "*****************************************************************************************************************************************************"
   ]
  },
  {
   "cell_type": "markdown",
   "metadata": {},
   "source": [
    "## 9.\tWhich are the most common restaurant type in Banglore?"
   ]
  },
  {
   "cell_type": "code",
   "execution_count": 56,
   "metadata": {},
   "outputs": [
    {
     "data": {
      "text/plain": [
       "Quick Bites           3300\n",
       "Casual Dining         1835\n",
       "Cafe                   644\n",
       "Delivery               459\n",
       "Dessert Parlor         409\n",
       "Takeaway, Delivery     395\n",
       "Bakery                 205\n",
       "Casual Dining, Bar     190\n",
       "Beverage Shop          140\n",
       "Bar                    120\n",
       "Name: Rest_type, dtype: int64"
      ]
     },
     "execution_count": 56,
     "metadata": {},
     "output_type": "execute_result"
    }
   ],
   "source": [
    "df['Rest_type'].value_counts().sort_values(ascending=False).head(10)"
   ]
  },
  {
   "cell_type": "markdown",
   "metadata": {},
   "source": [
    "*****************************************************************************************************************************************************\n",
    "\n",
    "\n",
    "*****************************************************************************************************************************************************"
   ]
  },
  {
   "cell_type": "markdown",
   "metadata": {},
   "source": [
    "*****************************************************************************************************************************************************\n",
    "\n",
    "\n",
    "*****************************************************************************************************************************************************"
   ]
  },
  {
   "cell_type": "markdown",
   "metadata": {},
   "source": [
    "## Q10.\tIs there any difference b/w the votes of restaurants accepting and not accepting online orders?"
   ]
  },
  {
   "cell_type": "code",
   "execution_count": 57,
   "metadata": {},
   "outputs": [
    {
     "name": "stdout",
     "output_type": "stream",
     "text": [
      "The difference between the votes of restaurants accepting and not accepting online orders is : 1755\n"
     ]
    }
   ],
   "source": [
    "ans = df[df[\"online_order\"] == \"Yes\"].loc[:, \"Voters Count\"].value_counts().sum(\n",
    ") - df[df[\"online_order\"] == \"No\"].loc[:, \"Voters Count\"].value_counts().sum()\n",
    "\n",
    "print(\"The difference between the votes of restaurants accepting and not accepting online orders is :\", ans)\n"
   ]
  },
  {
   "cell_type": "markdown",
   "metadata": {},
   "source": [
    "*****************************************************************************************************************************************************\n",
    "\n",
    "\n",
    "*****************************************************************************************************************************************************"
   ]
  },
  {
   "cell_type": "markdown",
   "metadata": {},
   "source": [
    "*****************************************************************************************************************************************************\n",
    "\n",
    "\n",
    "*****************************************************************************************************************************************************"
   ]
  },
  {
   "cell_type": "markdown",
   "metadata": {},
   "source": [
    "## Q11.\tWhich are the most common restaurant type in Banglore?"
   ]
  },
  {
   "cell_type": "code",
   "execution_count": 58,
   "metadata": {},
   "outputs": [
    {
     "data": {
      "text/plain": [
       "Quick Bites           3300\n",
       "Casual Dining         1835\n",
       "Cafe                   644\n",
       "Delivery               459\n",
       "Dessert Parlor         409\n",
       "Takeaway, Delivery     395\n",
       "Bakery                 205\n",
       "Casual Dining, Bar     190\n",
       "Beverage Shop          140\n",
       "Bar                    120\n",
       "Name: Rest_type, dtype: int64"
      ]
     },
     "execution_count": 58,
     "metadata": {},
     "output_type": "execute_result"
    }
   ],
   "source": [
    "df['Rest_type'].value_counts().sort_values(ascending=False).head(10)"
   ]
  },
  {
   "cell_type": "markdown",
   "metadata": {},
   "source": [
    "*****************************************************************************************************************************************************\n",
    "\n",
    "\n",
    "*****************************************************************************************************************************************************"
   ]
  },
  {
   "cell_type": "markdown",
   "metadata": {},
   "source": [
    "*****************************************************************************************************************************************************\n",
    "\n",
    "\n",
    "*****************************************************************************************************************************************************"
   ]
  },
  {
   "cell_type": "markdown",
   "metadata": {},
   "source": [
    "## Q12. Find the Best budget Restaurants in any location."
   ]
  },
  {
   "cell_type": "code",
   "execution_count": 59,
   "metadata": {},
   "outputs": [
    {
     "data": {
      "text/html": [
       "<div>\n",
       "<style scoped>\n",
       "    .dataframe tbody tr th:only-of-type {\n",
       "        vertical-align: middle;\n",
       "    }\n",
       "\n",
       "    .dataframe tbody tr th {\n",
       "        vertical-align: top;\n",
       "    }\n",
       "\n",
       "    .dataframe thead th {\n",
       "        text-align: right;\n",
       "    }\n",
       "</style>\n",
       "<table border=\"1\" class=\"dataframe\">\n",
       "  <thead>\n",
       "    <tr style=\"text-align: right;\">\n",
       "      <th></th>\n",
       "      <th></th>\n",
       "      <th></th>\n",
       "      <th>Average Cost for two</th>\n",
       "      <th>Ratings out of 5</th>\n",
       "      <th>Voters Count</th>\n",
       "    </tr>\n",
       "    <tr>\n",
       "      <th>rest_name</th>\n",
       "      <th>location</th>\n",
       "      <th>Rest_type</th>\n",
       "      <th></th>\n",
       "      <th></th>\n",
       "      <th></th>\n",
       "    </tr>\n",
       "  </thead>\n",
       "  <tbody>\n",
       "    <tr>\n",
       "      <th>AB's - Absolute Barbecues</th>\n",
       "      <th>BTM</th>\n",
       "      <th>Casual Dining</th>\n",
       "      <td>400.0</td>\n",
       "      <td>4.9</td>\n",
       "      <td>19317</td>\n",
       "    </tr>\n",
       "    <tr>\n",
       "      <th>Arbor Brewing Company</th>\n",
       "      <th>Brigade Road</th>\n",
       "      <th>Pub, Microbrewery</th>\n",
       "      <td>400.0</td>\n",
       "      <td>4.5</td>\n",
       "      <td>25201</td>\n",
       "    </tr>\n",
       "    <tr>\n",
       "      <th>Barbeque Nation</th>\n",
       "      <th>Indiranagar</th>\n",
       "      <th>Casual Dining</th>\n",
       "      <td>400.0</td>\n",
       "      <td>4.7</td>\n",
       "      <td>7152</td>\n",
       "    </tr>\n",
       "    <tr>\n",
       "      <th>Biergarten</th>\n",
       "      <th>Whitefield</th>\n",
       "      <th>Microbrewery, Pub</th>\n",
       "      <td>400.0</td>\n",
       "      <td>4.7</td>\n",
       "      <td>7064</td>\n",
       "    </tr>\n",
       "    <tr>\n",
       "      <th>Big Pitcher</th>\n",
       "      <th>Old Airport Road</th>\n",
       "      <th>Pub, Microbrewery</th>\n",
       "      <td>400.0</td>\n",
       "      <td>4.7</td>\n",
       "      <td>9041</td>\n",
       "    </tr>\n",
       "    <tr>\n",
       "      <th>Church Street Social</th>\n",
       "      <th>Church Street</th>\n",
       "      <th>Lounge</th>\n",
       "      <td>400.0</td>\n",
       "      <td>4.3</td>\n",
       "      <td>7584</td>\n",
       "    </tr>\n",
       "    <tr>\n",
       "      <th>Fenny's Lounge And Kitchen</th>\n",
       "      <th>Koramangala 7th Block</th>\n",
       "      <th>Bar, Casual Dining</th>\n",
       "      <td>400.0</td>\n",
       "      <td>4.5</td>\n",
       "      <td>12762</td>\n",
       "    </tr>\n",
       "    <tr>\n",
       "      <th>Hard Rock Cafe</th>\n",
       "      <th>St. Marks Road</th>\n",
       "      <th>Casual Dining, Bar</th>\n",
       "      <td>400.0</td>\n",
       "      <td>4.5</td>\n",
       "      <td>15828</td>\n",
       "    </tr>\n",
       "    <tr>\n",
       "      <th>Hoot</th>\n",
       "      <th>Sarjapur Road</th>\n",
       "      <th>Microbrewery, Pub</th>\n",
       "      <td>400.0</td>\n",
       "      <td>4.2</td>\n",
       "      <td>14523</td>\n",
       "    </tr>\n",
       "    <tr>\n",
       "      <th>Prost Brew Pub</th>\n",
       "      <th>Koramangala 4th Block</th>\n",
       "      <th>Pub, Microbrewery</th>\n",
       "      <td>400.0</td>\n",
       "      <td>4.5</td>\n",
       "      <td>23581</td>\n",
       "    </tr>\n",
       "    <tr>\n",
       "      <th>Smoke House Deli</th>\n",
       "      <th>Indiranagar</th>\n",
       "      <th>Casual Dining</th>\n",
       "      <td>400.0</td>\n",
       "      <td>4.6</td>\n",
       "      <td>5446</td>\n",
       "    </tr>\n",
       "    <tr>\n",
       "      <th>TBC Sky Lounge</th>\n",
       "      <th>HSR</th>\n",
       "      <th>Casual Dining, Bar</th>\n",
       "      <td>400.0</td>\n",
       "      <td>4.7</td>\n",
       "      <td>6745</td>\n",
       "    </tr>\n",
       "    <tr>\n",
       "      <th rowspan=\"2\" valign=\"top\">The Black Pearl</th>\n",
       "      <th>Koramangala 5th Block</th>\n",
       "      <th>Casual Dining, Bar</th>\n",
       "      <td>400.0</td>\n",
       "      <td>4.7</td>\n",
       "      <td>20893</td>\n",
       "    </tr>\n",
       "    <tr>\n",
       "      <th>Marathahalli</th>\n",
       "      <th>Casual Dining, Bar</th>\n",
       "      <td>400.0</td>\n",
       "      <td>4.8</td>\n",
       "      <td>7023</td>\n",
       "    </tr>\n",
       "    <tr>\n",
       "      <th>The Boozy Griffin</th>\n",
       "      <th>Koramangala 5th Block</th>\n",
       "      <th>Casual Dining, Pub</th>\n",
       "      <td>400.0</td>\n",
       "      <td>4.6</td>\n",
       "      <td>5015</td>\n",
       "    </tr>\n",
       "    <tr>\n",
       "      <th>Toit</th>\n",
       "      <th>Indiranagar</th>\n",
       "      <th>Microbrewery</th>\n",
       "      <td>400.0</td>\n",
       "      <td>4.7</td>\n",
       "      <td>14956</td>\n",
       "    </tr>\n",
       "    <tr>\n",
       "      <th>Vapour Pub &amp; Brewery</th>\n",
       "      <th>Indiranagar</th>\n",
       "      <th>Microbrewery, Pub</th>\n",
       "      <td>400.0</td>\n",
       "      <td>4.2</td>\n",
       "      <td>13905</td>\n",
       "    </tr>\n",
       "    <tr>\n",
       "      <th>Windmills Craftworks</th>\n",
       "      <th>Whitefield</th>\n",
       "      <th>Microbrewery, Pub</th>\n",
       "      <td>400.0</td>\n",
       "      <td>4.6</td>\n",
       "      <td>11782</td>\n",
       "    </tr>\n",
       "  </tbody>\n",
       "</table>\n",
       "</div>"
      ],
      "text/plain": [
       "                                                                     Average Cost for two  \\\n",
       "rest_name                  location              Rest_type                                  \n",
       "AB's - Absolute Barbecues  BTM                   Casual Dining                      400.0   \n",
       "Arbor Brewing Company      Brigade Road          Pub, Microbrewery                  400.0   \n",
       "Barbeque Nation            Indiranagar           Casual Dining                      400.0   \n",
       "Biergarten                 Whitefield            Microbrewery, Pub                  400.0   \n",
       "Big Pitcher                Old Airport Road      Pub, Microbrewery                  400.0   \n",
       "Church Street Social       Church Street         Lounge                             400.0   \n",
       "Fenny's Lounge And Kitchen Koramangala 7th Block Bar, Casual Dining                 400.0   \n",
       "Hard Rock Cafe             St. Marks Road        Casual Dining, Bar                 400.0   \n",
       "Hoot                       Sarjapur Road         Microbrewery, Pub                  400.0   \n",
       "Prost Brew Pub             Koramangala 4th Block Pub, Microbrewery                  400.0   \n",
       "Smoke House Deli           Indiranagar           Casual Dining                      400.0   \n",
       "TBC Sky Lounge             HSR                   Casual Dining, Bar                 400.0   \n",
       "The Black Pearl            Koramangala 5th Block Casual Dining, Bar                 400.0   \n",
       "                           Marathahalli          Casual Dining, Bar                 400.0   \n",
       "The Boozy Griffin          Koramangala 5th Block Casual Dining, Pub                 400.0   \n",
       "Toit                       Indiranagar           Microbrewery                       400.0   \n",
       "Vapour Pub & Brewery       Indiranagar           Microbrewery, Pub                  400.0   \n",
       "Windmills Craftworks       Whitefield            Microbrewery, Pub                  400.0   \n",
       "\n",
       "                                                                     Ratings out of 5  \\\n",
       "rest_name                  location              Rest_type                              \n",
       "AB's - Absolute Barbecues  BTM                   Casual Dining                    4.9   \n",
       "Arbor Brewing Company      Brigade Road          Pub, Microbrewery                4.5   \n",
       "Barbeque Nation            Indiranagar           Casual Dining                    4.7   \n",
       "Biergarten                 Whitefield            Microbrewery, Pub                4.7   \n",
       "Big Pitcher                Old Airport Road      Pub, Microbrewery                4.7   \n",
       "Church Street Social       Church Street         Lounge                           4.3   \n",
       "Fenny's Lounge And Kitchen Koramangala 7th Block Bar, Casual Dining               4.5   \n",
       "Hard Rock Cafe             St. Marks Road        Casual Dining, Bar               4.5   \n",
       "Hoot                       Sarjapur Road         Microbrewery, Pub                4.2   \n",
       "Prost Brew Pub             Koramangala 4th Block Pub, Microbrewery                4.5   \n",
       "Smoke House Deli           Indiranagar           Casual Dining                    4.6   \n",
       "TBC Sky Lounge             HSR                   Casual Dining, Bar               4.7   \n",
       "The Black Pearl            Koramangala 5th Block Casual Dining, Bar               4.7   \n",
       "                           Marathahalli          Casual Dining, Bar               4.8   \n",
       "The Boozy Griffin          Koramangala 5th Block Casual Dining, Pub               4.6   \n",
       "Toit                       Indiranagar           Microbrewery                     4.7   \n",
       "Vapour Pub & Brewery       Indiranagar           Microbrewery, Pub                4.2   \n",
       "Windmills Craftworks       Whitefield            Microbrewery, Pub                4.6   \n",
       "\n",
       "                                                                     Voters Count  \n",
       "rest_name                  location              Rest_type                         \n",
       "AB's - Absolute Barbecues  BTM                   Casual Dining              19317  \n",
       "Arbor Brewing Company      Brigade Road          Pub, Microbrewery          25201  \n",
       "Barbeque Nation            Indiranagar           Casual Dining               7152  \n",
       "Biergarten                 Whitefield            Microbrewery, Pub           7064  \n",
       "Big Pitcher                Old Airport Road      Pub, Microbrewery           9041  \n",
       "Church Street Social       Church Street         Lounge                      7584  \n",
       "Fenny's Lounge And Kitchen Koramangala 7th Block Bar, Casual Dining         12762  \n",
       "Hard Rock Cafe             St. Marks Road        Casual Dining, Bar         15828  \n",
       "Hoot                       Sarjapur Road         Microbrewery, Pub          14523  \n",
       "Prost Brew Pub             Koramangala 4th Block Pub, Microbrewery          23581  \n",
       "Smoke House Deli           Indiranagar           Casual Dining               5446  \n",
       "TBC Sky Lounge             HSR                   Casual Dining, Bar          6745  \n",
       "The Black Pearl            Koramangala 5th Block Casual Dining, Bar         20893  \n",
       "                           Marathahalli          Casual Dining, Bar          7023  \n",
       "The Boozy Griffin          Koramangala 5th Block Casual Dining, Pub          5015  \n",
       "Toit                       Indiranagar           Microbrewery               14956  \n",
       "Vapour Pub & Brewery       Indiranagar           Microbrewery, Pub          13905  \n",
       "Windmills Craftworks       Whitefield            Microbrewery, Pub          11782  "
      ]
     },
     "execution_count": 59,
     "metadata": {},
     "output_type": "execute_result"
    }
   ],
   "source": [
    "budget_rest = df[((df['Average Cost for two'] >= 400) & (df['Average Cost for two'] <= 460) & (df['Ratings out of 5'] > 4) & (\n",
    "    df['Voters Count'] > 5000))].loc[:, ['rest_name', 'Rest_type', 'location', 'Average Cost for two', 'Ratings out of 5', 'Voters Count']]\n",
    "\n",
    "budget_rest.drop_duplicates(inplace=True)\n",
    "\n",
    "budget_rest.groupby(by=['rest_name', 'location', 'Rest_type']).agg(\n",
    "    {'Average Cost for two': 'mean', 'Ratings out of 5': 'mean', 'Voters Count': 'sum'})\n"
   ]
  },
  {
   "cell_type": "markdown",
   "metadata": {},
   "source": [
    "*****************************************************************************************************************************************************\n",
    "\n",
    "\n",
    "*****************************************************************************************************************************************************"
   ]
  },
  {
   "cell_type": "markdown",
   "metadata": {},
   "source": [
    "*****************************************************************************************************************************************************\n",
    "\n",
    "\n",
    "*****************************************************************************************************************************************************"
   ]
  },
  {
   "cell_type": "markdown",
   "metadata": {},
   "source": [
    "## 13.\tTop quick bites restaurant chains in Banglore."
   ]
  },
  {
   "cell_type": "code",
   "execution_count": 60,
   "metadata": {},
   "outputs": [
    {
     "data": {
      "text/html": [
       "<div>\n",
       "<style scoped>\n",
       "    .dataframe tbody tr th:only-of-type {\n",
       "        vertical-align: middle;\n",
       "    }\n",
       "\n",
       "    .dataframe tbody tr th {\n",
       "        vertical-align: top;\n",
       "    }\n",
       "\n",
       "    .dataframe thead th {\n",
       "        text-align: right;\n",
       "    }\n",
       "</style>\n",
       "<table border=\"1\" class=\"dataframe\">\n",
       "  <thead>\n",
       "    <tr style=\"text-align: right;\">\n",
       "      <th></th>\n",
       "      <th></th>\n",
       "      <th>Average Cost for two</th>\n",
       "      <th>Ratings out of 5</th>\n",
       "      <th>Voters Count</th>\n",
       "    </tr>\n",
       "    <tr>\n",
       "      <th>rest_name</th>\n",
       "      <th>location</th>\n",
       "      <th></th>\n",
       "      <th></th>\n",
       "      <th></th>\n",
       "    </tr>\n",
       "  </thead>\n",
       "  <tbody>\n",
       "    <tr>\n",
       "      <th>CTR</th>\n",
       "      <th>Malleshwaram</th>\n",
       "      <td>150.0</td>\n",
       "      <td>4.7</td>\n",
       "      <td>4408</td>\n",
       "    </tr>\n",
       "    <tr>\n",
       "      <th>Eat Street</th>\n",
       "      <th>Koramangala 6th Block</th>\n",
       "      <td>600.0</td>\n",
       "      <td>4.2</td>\n",
       "      <td>3065</td>\n",
       "    </tr>\n",
       "    <tr>\n",
       "      <th>Kabab Magic</th>\n",
       "      <th>Basavanagudi</th>\n",
       "      <td>400.0</td>\n",
       "      <td>4.1</td>\n",
       "      <td>1720</td>\n",
       "    </tr>\n",
       "    <tr>\n",
       "      <th>Taco Bell</th>\n",
       "      <th>Koramangala 6th Block</th>\n",
       "      <td>600.0</td>\n",
       "      <td>4.1</td>\n",
       "      <td>3922</td>\n",
       "    </tr>\n",
       "    <tr>\n",
       "      <th>Veena Stores</th>\n",
       "      <th>Malleshwaram</th>\n",
       "      <td>150.0</td>\n",
       "      <td>4.5</td>\n",
       "      <td>2416</td>\n",
       "    </tr>\n",
       "  </tbody>\n",
       "</table>\n",
       "</div>"
      ],
      "text/plain": [
       "                                    Average Cost for two  Ratings out of 5  \\\n",
       "rest_name    location                                                        \n",
       "CTR          Malleshwaram                          150.0               4.7   \n",
       "Eat Street   Koramangala 6th Block                 600.0               4.2   \n",
       "Kabab Magic  Basavanagudi                          400.0               4.1   \n",
       "Taco Bell    Koramangala 6th Block                 600.0               4.1   \n",
       "Veena Stores Malleshwaram                          150.0               4.5   \n",
       "\n",
       "                                    Voters Count  \n",
       "rest_name    location                             \n",
       "CTR          Malleshwaram                   4408  \n",
       "Eat Street   Koramangala 6th Block          3065  \n",
       "Kabab Magic  Basavanagudi                   1720  \n",
       "Taco Bell    Koramangala 6th Block          3922  \n",
       "Veena Stores Malleshwaram                   2416  "
      ]
     },
     "execution_count": 60,
     "metadata": {},
     "output_type": "execute_result"
    }
   ],
   "source": [
    "top_quick_bite_rest = df[(df['Rest_type'] == 'Quick Bites') & (df['Ratings out of 5'] > 4) & (\n",
    "    df['Voters Count'] > 1000)].loc[:, ['rest_name', 'location', 'Average Cost for two', 'Ratings out of 5', 'Voters Count']]\n",
    "\n",
    "top_quick_bite_rest.drop_duplicates(inplace=True)\n",
    "\n",
    "top_quick_bite_rest.groupby(by=['rest_name', 'location']).agg(\n",
    "    {'Average Cost for two': 'mean', 'Ratings out of 5': 'mean', 'Voters Count': 'sum'})\n"
   ]
  },
  {
   "cell_type": "markdown",
   "metadata": {},
   "source": [
    "*****************************************************************************************************************************************************\n",
    "\n",
    "\n",
    "*****************************************************************************************************************************************************"
   ]
  },
  {
   "cell_type": "markdown",
   "metadata": {},
   "source": [
    "*****************************************************************************************************************************************************\n",
    "\n",
    "\n",
    "*****************************************************************************************************************************************************"
   ]
  },
  {
   "cell_type": "markdown",
   "metadata": {},
   "source": [
    "## 14.\tWhich are the most popular casual dining restaurant chains, Make use of any plot related to this question?"
   ]
  },
  {
   "cell_type": "code",
   "execution_count": 61,
   "metadata": {},
   "outputs": [
    {
     "name": "stderr",
     "output_type": "stream",
     "text": [
      "C:\\Users\\Dell\\AppData\\Local\\Temp\\ipykernel_12872\\2782809070.py:9: SettingWithCopyWarning: \n",
      "A value is trying to be set on a copy of a slice from a DataFrame.\n",
      "Try using .loc[row_indexer,col_indexer] = value instead\n",
      "\n",
      "See the caveats in the documentation: https://pandas.pydata.org/pandas-docs/stable/user_guide/indexing.html#returning-a-view-versus-a-copy\n",
      "  df2['popularity'] = df2['Ratings out of 5'] * df2['Voters Count']\n"
     ]
    }
   ],
   "source": [
    "popular_casual_dining_rest = pd.DataFrame(df[df['Rest_type'] == 'Casual Dining'].groupby(\n",
    "    by=['rest_name']).agg({'Average Cost for two': 'mean', 'Ratings out of 5': 'mean', 'Voters Count': 'sum'}))\n",
    "\n",
    "popular_casual_dining_rest.reset_index(inplace=True)\n",
    "\n",
    "df2 = popular_casual_dining_rest[(popular_casual_dining_rest['Ratings out of 5'] > 4.3) & (\n",
    "    popular_casual_dining_rest['Voters Count'] > 4000)]\n",
    "\n",
    "df2['popularity'] = df2['Ratings out of 5'] * df2['Voters Count']\n"
   ]
  },
  {
   "cell_type": "code",
   "execution_count": 62,
   "metadata": {},
   "outputs": [
    {
     "data": {
      "image/png": "[encoded data removed]",
      "text/plain": [
       "<Figure size 1500x500 with 1 Axes>"
      ]
     },
     "metadata": {},
     "output_type": "display_data"
    }
   ],
   "source": [
    "df2.plot(kind='bar', x='rest_name', y='popularity', xlabel=\"Restaurant Name\",\n",
    "         ylabel=\"Popularity\", title=\"Most popular 'Casual Dining' restaurant chains\", figsize=(15,5))\n",
    "\n",
    "plt.xticks(rotation=60)\n",
    "\n",
    "plt.show()\n"
   ]
  },
  {
   "cell_type": "markdown",
   "metadata": {},
   "source": [
    "*****************************************************************************************************************************************************\n",
    "\n",
    "\n",
    "*****************************************************************************************************************************************************"
   ]
  },
  {
   "cell_type": "markdown",
   "metadata": {},
   "source": [
    "*****************************************************************************************************************************************************\n",
    "\n",
    "\n",
    "*****************************************************************************************************************************************************"
   ]
  },
  {
   "cell_type": "markdown",
   "metadata": {},
   "source": [
    "## Q15.\tWhich are the most popular cuisines of Bangalore using a related plot?"
   ]
  },
  {
   "cell_type": "markdown",
   "metadata": {},
   "source": []
  },
  {
   "cell_type": "code",
   "execution_count": 63,
   "metadata": {},
   "outputs": [
    {
     "data": {
      "image/png": "[encoded data removed]",
      "text/plain": [
       "<Figure size 1000x800 with 1 Axes>"
      ]
     },
     "metadata": {},
     "output_type": "display_data"
    }
   ],
   "source": [
    "cuisine_list = df['Cuisines'].str.split(',\\s*').explode()\n",
    "\n",
    "total_count_cuisine = cuisine_list.value_counts()\n",
    "\n",
    "total_count_cuisine\n",
    "\n",
    "total_count_cuisine.sort_values(ascending=False).head(12).plot(\n",
    "    kind='bar', xlabel= 'Cuisine Names',ylabel=\"Popularity\", title=\"The most popular cuisines of the Bangalore City\", figsize=(10, 8))\n",
    "\n",
    "plt.show()"
   ]
  },
  {
   "cell_type": "markdown",
   "metadata": {},
   "source": [
    "''' The explode() function is a convenient method available in pandas that \n",
    "it is used to transform lists-like objects (e.g., lists, Series containing lists) into rows. \n",
    "It helps to flatten the lists, expanding each element of the list to a separate row while duplicating the rest of the data accordingly.'''"
   ]
  },
  {
   "cell_type": "markdown",
   "metadata": {},
   "source": [
    "## THANK YOU !!!!"
   ]
  },
  {
   "cell_type": "markdown",
   "metadata": {},
   "source": []
  }
 ],
 "metadata": {
  "kernelspec": {
   "display_name": "Python 3",
   "language": "python",
   "name": "python3"
  },
  "language_info": {
   "codemirror_mode": {
    "name": "ipython",
    "version": 3
   },
   "file_extension": ".py",
   "mimetype": "text/x-python",
   "name": "python",
   "nbconvert_exporter": "python",
   "pygments_lexer": "ipython3",
   "version": "3.11.1"
  },
  "orig_nbformat": 4
 },
 "nbformat": 4,
 "nbformat_minor": 2
}
